{
  "cells": [
    {
      "cell_type": "markdown",
      "source": [
        "#CM4709 Computer Vision\n",
        "#Lab 07 Image Segmentation\n",
        "\n",
        "##Aims\n",
        "* Use YOLO to pefrom image segmentation.\n",
        "\n",
        "Note: The original lab used [Mask RCNN](https://github.com/matterport/Mask_RCNN) in the [PixelLib](https://github.com/ayoolaolafenwa/PixelLib) library.\n",
        "However, as software have evolved, the current library versions do not seem to work with Mask RCNN and the older version of Tensorflow is not available in Colab anymore.\n",
        "As a result, we changed to use YOLO. The whole idea is to illustrate how to do image segmentation using in an\n",
        "existing library."
      ],
      "metadata": {
        "id": "9nISn72KOU74"
      }
    },
    {
      "cell_type": "markdown",
      "source": [
        "##Mounting GoogleDrive to Colab Runtime\n",
        "\n",
        "As usual, you will need some testing images. It is faster to upload them to GoogleDrive and then mount it to your Colab runtime.\n",
        "\n",
        "In the following code, I use the path `/content/drive` as the mounting point as Colab also has a convenient button mounting to this path."
      ],
      "metadata": {
        "id": "O0u_qhk4PGtQ"
      }
    },
    {
      "cell_type": "code",
      "execution_count": null,
      "metadata": {
        "id": "lfaHOhboI6sh"
      },
      "outputs": [],
      "source": [
        "from google.colab import drive\n",
        "\n",
        "gDriveMountPoint='/content/gDrive'  #mounting point\n",
        "drive.mount(gDriveMountPoint)       #mount GoogleDrive"
      ]
    },
    {
      "cell_type": "markdown",
      "source": [
        "##Testing Images\n",
        "\n",
        "You are advised to organise your files in GoogleDrive. e.g. Create a `Lab07` folder in GoogleDrive to store the notebook file of Lab 07, and a `Lab07/data` folder for the images.\n",
        "\n",
        "1. Download the testing images in Moodle. Optionally, use your own testing images.\n",
        "1. Upload testing images to your GoogleDrive space.\n",
        "\n",
        "The following code shows a testing image using OpenCV.\n",
        "* Note: Modify the filename and image path accordingly.\n"
      ],
      "metadata": {
        "id": "oJHz3w89Qy32"
      }
    },
    {
      "cell_type": "code",
      "source": [
        "import cv2 as cv\n",
        "import matplotlib.pyplot as plt\n",
        "\n",
        "#image filename and path\n",
        "#\n",
        "filename='test.jpg'\n",
        "imagePath=gDriveMountPoint+'/MyDrive/cm4709/Lab07/data'\n",
        "imageFile=imagePath+'/'+filename\n",
        "\n",
        "#show image\n",
        "#\n",
        "img=cv.imread(imageFile)\n",
        "plt.figure(figsize=(10,10))\n",
        "plt.imshow(cv.cvtColor(img, cv.COLOR_BGR2RGB))"
      ],
      "metadata": {
        "id": "euSaL_1Xy58B"
      },
      "execution_count": null,
      "outputs": []
    },
    {
      "cell_type": "markdown",
      "source": [
        "##Image Segmentation Using YOLO\n",
        "\n",
        "Interesting enough, YOLO now also has the image segmentation function.\n",
        "Program code in this part is mostly from [this web page](https://dev.to/andreygermanov/how-to-implement-instance-segmentation-using-yolov8-neural-network-3if9).\n",
        "\n",
        "To use YOLO for the task, we need to install the Ultalytics library:"
      ],
      "metadata": {
        "id": "_Mv9g-uE3crY"
      }
    },
    {
      "cell_type": "code",
      "source": [
        "#install Ultralytic library\n",
        "\n",
        "!pip install ultralytics"
      ],
      "metadata": {
        "id": "W87J2jYd3f-x"
      },
      "execution_count": null,
      "outputs": []
    },
    {
      "cell_type": "markdown",
      "source": [
        "##Perform Image Segmentation Using YOLO\n",
        "\n",
        "For image segementation, we will need a different weight file trained for the task.\n",
        "Apart from this, the Python code is very similar to object detection.\n",
        "After calling the [`predict(...)` function](https://docs.ultralytics.com/modes/predict/#inference-arguments), what remains is to process the result."
      ],
      "metadata": {
        "id": "t8jvmd-963QH"
      }
    },
    {
      "cell_type": "code",
      "source": [
        "from ultralytics import YOLO\n",
        "\n",
        "#\n",
        "#path to input image\n",
        "#these lines are already executed above\n",
        "#just here for reference\n",
        "#\n",
        "#filename='test.jpg'\n",
        "#imagePath=gDriveMountPoint+'/MyDrive/cm4709/Lab07/data'\n",
        "#imageFile=imagePath+'/'+filename\n",
        "\n",
        "#\n",
        "#download weights for image segmentation\n",
        "#\n",
        "model = YOLO(\"yolo11m-seg.pt\")      #load YOLOv11m model weights for image segmentation\n",
        "results = model.predict(imageFile)  #predict on 1 image"
      ],
      "metadata": {
        "id": "XLWKhqA23sQP"
      },
      "execution_count": null,
      "outputs": []
    },
    {
      "cell_type": "markdown",
      "source": [
        "##Processing the Masks\n",
        "\n",
        "The prediction [result](https://docs.ultralytics.com/modes/predict/#inference-arguments) contains a number of [masks](https://docs.ultralytics.com/modes/predict/#masks).\n",
        "The following code shows the number of masks detected in the image:"
      ],
      "metadata": {
        "id": "7A705quY7vPk"
      }
    },
    {
      "cell_type": "code",
      "source": [
        "result = results[0]                 #take 1st result as we have only 1 image\n",
        "masks=result.masks                  #get masks predicted\n",
        "print('No. of masks: ',len(result))"
      ],
      "metadata": {
        "id": "hbiw6gvz4y0t"
      },
      "execution_count": null,
      "outputs": []
    },
    {
      "cell_type": "markdown",
      "source": [
        "##Showing the Masks as Polygons\n",
        "\n",
        "Each mask contains list of x,y coordinates in floating point numbers.\n",
        "By converting the list of coordinates into integers, we can draw out each mask as a polygon using OpenCV."
      ],
      "metadata": {
        "id": "j0sPqnVCQ1oD"
      }
    },
    {
      "cell_type": "code",
      "source": [
        "import cv2 as cv\n",
        "import matplotlib.pyplot as plt\n",
        "import numpy\n",
        "import random\n",
        "\n",
        "#\n",
        "#draw masks as polygons\n",
        "#\n",
        "img=cv.imread(imageFile)\n",
        "for mask in masks:\n",
        "  xy=mask.xy[0].astype(int)   #convert float to int\n",
        "  colour=(random.randint(0,255),random.randint(0,255),random.randint(0,255))  #create a random BGR colour for drawing\n",
        "  cv.polylines(img,[xy],isClosed=True,color=colour,thickness=3)               #draw mask as a polygon\n",
        "\n",
        "#\n",
        "#show image with masks drawn\n",
        "#\n",
        "plt.figure(figsize=(10,10))\n",
        "plt.imshow(cv.cvtColor(img, cv.COLOR_BGR2RGB))"
      ],
      "metadata": {
        "id": "4hkYY6o65_Gy"
      },
      "execution_count": null,
      "outputs": []
    }
  ],
  "metadata": {
    "colab": {
      "provenance": [],
      "mount_file_id": "1CWFk68QbTWoElTOhhhA9jo5aqRFFENG_",
      "authorship_tag": "ABX9TyMCbgTZUJX6rv8Ytu0U1KpY"
    },
    "kernelspec": {
      "display_name": "Python 3",
      "name": "python3"
    },
    "language_info": {
      "name": "python"
    }
  },
  "nbformat": 4,
  "nbformat_minor": 0
}