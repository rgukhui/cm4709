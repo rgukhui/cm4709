{
  "cells": [
    {
      "cell_type": "markdown",
      "metadata": {
        "id": "1dKSC_pRqAme"
      },
      "source": [
        "#CM4709 Computer Vision\n",
        "#Lab 04 Convolutional Neural Network\n",
        "\n",
        "##Aims\n",
        "1. Use the Keras library to build a Convolutional Neural Network (CNN).\n",
        "1. Use a CNN to classify images in the Fashion MNIST dataset.\n",
        "\n",
        "\n",
        "##The Fashion MNIST Dataset\n",
        "\n",
        "In Lab 03, we used a Neural Network to classify images in the [fashion MNIST dataset](https://www.kaggle.com/datasets/zalando-research/fashionmnist).\n",
        "This week, we will use a Convolutional Neural Network (CNN) to do the same job.\n",
        "We will compare the performance of these 2 approaches before any tuning.\n",
        "\n",
        "The following code is from Lab 03.\n",
        "It simply loads the Fashion MNIST data and prepare the training, validation, and testing datasets.\n",
        "\n",
        "There is no change from last week:\n"
      ]
    },
    {
      "cell_type": "code",
      "execution_count": 1,
      "metadata": {
        "colab": {
          "base_uri": "https://localhost:8080/"
        },
        "id": "MGbyIS0Y2FXy",
        "outputId": "a12eb559-9a50-4f6c-dbb3-c384cbcc5f0c"
      },
      "outputs": [
        {
          "output_type": "stream",
          "name": "stdout",
          "text": [
            "Downloading data from https://storage.googleapis.com/tensorflow/tf-keras-datasets/train-labels-idx1-ubyte.gz\n",
            "\u001b[1m29515/29515\u001b[0m \u001b[32m━━━━━━━━━━━━━━━━━━━━\u001b[0m\u001b[37m\u001b[0m \u001b[1m0s\u001b[0m 0us/step\n",
            "Downloading data from https://storage.googleapis.com/tensorflow/tf-keras-datasets/train-images-idx3-ubyte.gz\n",
            "\u001b[1m26421880/26421880\u001b[0m \u001b[32m━━━━━━━━━━━━━━━━━━━━\u001b[0m\u001b[37m\u001b[0m \u001b[1m2s\u001b[0m 0us/step\n",
            "Downloading data from https://storage.googleapis.com/tensorflow/tf-keras-datasets/t10k-labels-idx1-ubyte.gz\n",
            "\u001b[1m5148/5148\u001b[0m \u001b[32m━━━━━━━━━━━━━━━━━━━━\u001b[0m\u001b[37m\u001b[0m \u001b[1m0s\u001b[0m 0us/step\n",
            "Downloading data from https://storage.googleapis.com/tensorflow/tf-keras-datasets/t10k-images-idx3-ubyte.gz\n",
            "\u001b[1m4422102/4422102\u001b[0m \u001b[32m━━━━━━━━━━━━━━━━━━━━\u001b[0m\u001b[37m\u001b[0m \u001b[1m1s\u001b[0m 0us/step\n",
            "Full training dataset (images):  (60000, 28, 28)\n",
            "Full training dataset (labels):  (60000,)\n",
            "  Training dataset (images):  (55000, 28, 28)\n",
            "  Training dataset (labels):  (55000,)\n",
            "  Validation dataset (images):  (5000, 28, 28)\n",
            "  Validation dataset (labels):  (5000,)\n",
            "Testing dataset (images):  (10000, 28, 28)\n",
            "Testing dataset (labels):  (10000,)\n"
          ]
        }
      ],
      "source": [
        "#import libraries\n",
        "import tensorflow as tf\n",
        "from tensorflow import keras\n",
        "\n",
        "#load dataset from Keras\n",
        "(x_train_full,y_train_full),(x_test,y_test)=keras.datasets.fashion_mnist.load_data()\n",
        "\n",
        "#split full training dataset into validation and training subsets\n",
        "x_valid=x_train_full[:5000]/255.0\n",
        "x_train=x_train_full[5000:]/255.0\n",
        "y_valid=y_train_full[:5000]\n",
        "y_train=y_train_full[5000:]\n",
        "\n",
        "print('Full training dataset (images): ',x_train_full.shape)\n",
        "print('Full training dataset (labels): ',y_train_full.shape)\n",
        "print('  Training dataset (images): ',x_train.shape)\n",
        "print('  Training dataset (labels): ',y_train.shape)\n",
        "print('  Validation dataset (images): ',x_valid.shape)\n",
        "print('  Validation dataset (labels): ',y_valid.shape)\n",
        "print('Testing dataset (images): ',x_test.shape)\n",
        "print('Testing dataset (labels): ',y_test.shape)\n"
      ]
    },
    {
      "cell_type": "markdown",
      "metadata": {
        "id": "rmO3L5yXqsNQ"
      },
      "source": [
        "##Building the Neural Network\n",
        "\n",
        "The following code builds a neural network of 4 layers.\n",
        "1. We use a [Sequential model](https://keras.io/guides/sequential_model/).\n",
        "1. We start our model by passing an [Input](https://keras.io/api/layers/core_layers/input/) object to it, so that it knows its input shape from the beginning.\n",
        "1. The input will feed into a [Conv2D](https://keras.io/api/layers/convolution_layers/convolution2d/) layer.\n",
        "1. This is followed by a [MaxPooling2D](https://keras.io/api/layers/pooling_layers/max_pooling2d/) layer.\n",
        "1. Then another [Conv2D](https://keras.io/api/layers/convolution_layers/convolution2d/) layer.\n",
        "1. And another [MaxPooling2D](https://keras.io/api/layers/pooling_layers/max_pooling2d/) layer.\n",
        "1. Then we flatten the layer.\n",
        "1. Fit it into a [Dense](https://keras.io/api/layers/core_layers/dense/) layer.\n",
        "1. Finally the output layer has 1 neurons, corresponding to the 10 classes in the dataset. Again, we use the [Softmax activation function](https://keras.io/api/layers/activations/#softmax-function) in the output layer."
      ]
    },
    {
      "cell_type": "code",
      "execution_count": 21,
      "metadata": {
        "colab": {
          "base_uri": "https://localhost:8080/",
          "height": 533
        },
        "id": "o_S58ieqrCge",
        "outputId": "13c6ade0-fb6f-47d5-cecf-52ab5fce3303"
      },
      "outputs": [
        {
          "output_type": "display_data",
          "data": {
            "text/plain": [
              "\u001b[1mModel: \"sequential_1\"\u001b[0m\n"
            ],
            "text/html": [
              "<pre style=\"white-space:pre;overflow-x:auto;line-height:normal;font-family:Menlo,'DejaVu Sans Mono',consolas,'Courier New',monospace\"><span style=\"font-weight: bold\">Model: \"sequential_1\"</span>\n",
              "</pre>\n"
            ]
          },
          "metadata": {}
        },
        {
          "output_type": "display_data",
          "data": {
            "text/plain": [
              "┏━━━━━━━━━━━━━━━━━━━━━━━━━━━━━━━━━━━━━━┳━━━━━━━━━━━━━━━━━━━━━━━━━━━━━┳━━━━━━━━━━━━━━━━━┓\n",
              "┃\u001b[1m \u001b[0m\u001b[1mLayer (type)                        \u001b[0m\u001b[1m \u001b[0m┃\u001b[1m \u001b[0m\u001b[1mOutput Shape               \u001b[0m\u001b[1m \u001b[0m┃\u001b[1m \u001b[0m\u001b[1m        Param #\u001b[0m\u001b[1m \u001b[0m┃\n",
              "┡━━━━━━━━━━━━━━━━━━━━━━━━━━━━━━━━━━━━━━╇━━━━━━━━━━━━━━━━━━━━━━━━━━━━━╇━━━━━━━━━━━━━━━━━┩\n",
              "│ conv2d_3 (\u001b[38;5;33mConv2D\u001b[0m)                    │ (\u001b[38;5;45mNone\u001b[0m, \u001b[38;5;34m28\u001b[0m, \u001b[38;5;34m28\u001b[0m, \u001b[38;5;34m16\u001b[0m)          │             \u001b[38;5;34m160\u001b[0m │\n",
              "├──────────────────────────────────────┼─────────────────────────────┼─────────────────┤\n",
              "│ max_pooling2d_3 (\u001b[38;5;33mMaxPooling2D\u001b[0m)       │ (\u001b[38;5;45mNone\u001b[0m, \u001b[38;5;34m14\u001b[0m, \u001b[38;5;34m14\u001b[0m, \u001b[38;5;34m16\u001b[0m)          │               \u001b[38;5;34m0\u001b[0m │\n",
              "├──────────────────────────────────────┼─────────────────────────────┼─────────────────┤\n",
              "│ conv2d_4 (\u001b[38;5;33mConv2D\u001b[0m)                    │ (\u001b[38;5;45mNone\u001b[0m, \u001b[38;5;34m14\u001b[0m, \u001b[38;5;34m14\u001b[0m, \u001b[38;5;34m16\u001b[0m)          │           \u001b[38;5;34m2,320\u001b[0m │\n",
              "├──────────────────────────────────────┼─────────────────────────────┼─────────────────┤\n",
              "│ max_pooling2d_4 (\u001b[38;5;33mMaxPooling2D\u001b[0m)       │ (\u001b[38;5;45mNone\u001b[0m, \u001b[38;5;34m7\u001b[0m, \u001b[38;5;34m7\u001b[0m, \u001b[38;5;34m16\u001b[0m)            │               \u001b[38;5;34m0\u001b[0m │\n",
              "├──────────────────────────────────────┼─────────────────────────────┼─────────────────┤\n",
              "│ conv2d_5 (\u001b[38;5;33mConv2D\u001b[0m)                    │ (\u001b[38;5;45mNone\u001b[0m, \u001b[38;5;34m7\u001b[0m, \u001b[38;5;34m7\u001b[0m, \u001b[38;5;34m16\u001b[0m)            │           \u001b[38;5;34m2,320\u001b[0m │\n",
              "├──────────────────────────────────────┼─────────────────────────────┼─────────────────┤\n",
              "│ max_pooling2d_5 (\u001b[38;5;33mMaxPooling2D\u001b[0m)       │ (\u001b[38;5;45mNone\u001b[0m, \u001b[38;5;34m3\u001b[0m, \u001b[38;5;34m3\u001b[0m, \u001b[38;5;34m16\u001b[0m)            │               \u001b[38;5;34m0\u001b[0m │\n",
              "├──────────────────────────────────────┼─────────────────────────────┼─────────────────┤\n",
              "│ flatten_1 (\u001b[38;5;33mFlatten\u001b[0m)                  │ (\u001b[38;5;45mNone\u001b[0m, \u001b[38;5;34m144\u001b[0m)                 │               \u001b[38;5;34m0\u001b[0m │\n",
              "├──────────────────────────────────────┼─────────────────────────────┼─────────────────┤\n",
              "│ dense_3 (\u001b[38;5;33mDense\u001b[0m)                      │ (\u001b[38;5;45mNone\u001b[0m, \u001b[38;5;34m128\u001b[0m)                 │          \u001b[38;5;34m18,560\u001b[0m │\n",
              "├──────────────────────────────────────┼─────────────────────────────┼─────────────────┤\n",
              "│ dropout_2 (\u001b[38;5;33mDropout\u001b[0m)                  │ (\u001b[38;5;45mNone\u001b[0m, \u001b[38;5;34m128\u001b[0m)                 │               \u001b[38;5;34m0\u001b[0m │\n",
              "├──────────────────────────────────────┼─────────────────────────────┼─────────────────┤\n",
              "│ dense_4 (\u001b[38;5;33mDense\u001b[0m)                      │ (\u001b[38;5;45mNone\u001b[0m, \u001b[38;5;34m64\u001b[0m)                  │           \u001b[38;5;34m8,256\u001b[0m │\n",
              "├──────────────────────────────────────┼─────────────────────────────┼─────────────────┤\n",
              "│ dropout_3 (\u001b[38;5;33mDropout\u001b[0m)                  │ (\u001b[38;5;45mNone\u001b[0m, \u001b[38;5;34m64\u001b[0m)                  │               \u001b[38;5;34m0\u001b[0m │\n",
              "├──────────────────────────────────────┼─────────────────────────────┼─────────────────┤\n",
              "│ dense_5 (\u001b[38;5;33mDense\u001b[0m)                      │ (\u001b[38;5;45mNone\u001b[0m, \u001b[38;5;34m10\u001b[0m)                  │             \u001b[38;5;34m650\u001b[0m │\n",
              "└──────────────────────────────────────┴─────────────────────────────┴─────────────────┘\n"
            ],
            "text/html": [
              "<pre style=\"white-space:pre;overflow-x:auto;line-height:normal;font-family:Menlo,'DejaVu Sans Mono',consolas,'Courier New',monospace\">┏━━━━━━━━━━━━━━━━━━━━━━━━━━━━━━━━━━━━━━┳━━━━━━━━━━━━━━━━━━━━━━━━━━━━━┳━━━━━━━━━━━━━━━━━┓\n",
              "┃<span style=\"font-weight: bold\"> Layer (type)                         </span>┃<span style=\"font-weight: bold\"> Output Shape                </span>┃<span style=\"font-weight: bold\">         Param # </span>┃\n",
              "┡━━━━━━━━━━━━━━━━━━━━━━━━━━━━━━━━━━━━━━╇━━━━━━━━━━━━━━━━━━━━━━━━━━━━━╇━━━━━━━━━━━━━━━━━┩\n",
              "│ conv2d_3 (<span style=\"color: #0087ff; text-decoration-color: #0087ff\">Conv2D</span>)                    │ (<span style=\"color: #00d7ff; text-decoration-color: #00d7ff\">None</span>, <span style=\"color: #00af00; text-decoration-color: #00af00\">28</span>, <span style=\"color: #00af00; text-decoration-color: #00af00\">28</span>, <span style=\"color: #00af00; text-decoration-color: #00af00\">16</span>)          │             <span style=\"color: #00af00; text-decoration-color: #00af00\">160</span> │\n",
              "├──────────────────────────────────────┼─────────────────────────────┼─────────────────┤\n",
              "│ max_pooling2d_3 (<span style=\"color: #0087ff; text-decoration-color: #0087ff\">MaxPooling2D</span>)       │ (<span style=\"color: #00d7ff; text-decoration-color: #00d7ff\">None</span>, <span style=\"color: #00af00; text-decoration-color: #00af00\">14</span>, <span style=\"color: #00af00; text-decoration-color: #00af00\">14</span>, <span style=\"color: #00af00; text-decoration-color: #00af00\">16</span>)          │               <span style=\"color: #00af00; text-decoration-color: #00af00\">0</span> │\n",
              "├──────────────────────────────────────┼─────────────────────────────┼─────────────────┤\n",
              "│ conv2d_4 (<span style=\"color: #0087ff; text-decoration-color: #0087ff\">Conv2D</span>)                    │ (<span style=\"color: #00d7ff; text-decoration-color: #00d7ff\">None</span>, <span style=\"color: #00af00; text-decoration-color: #00af00\">14</span>, <span style=\"color: #00af00; text-decoration-color: #00af00\">14</span>, <span style=\"color: #00af00; text-decoration-color: #00af00\">16</span>)          │           <span style=\"color: #00af00; text-decoration-color: #00af00\">2,320</span> │\n",
              "├──────────────────────────────────────┼─────────────────────────────┼─────────────────┤\n",
              "│ max_pooling2d_4 (<span style=\"color: #0087ff; text-decoration-color: #0087ff\">MaxPooling2D</span>)       │ (<span style=\"color: #00d7ff; text-decoration-color: #00d7ff\">None</span>, <span style=\"color: #00af00; text-decoration-color: #00af00\">7</span>, <span style=\"color: #00af00; text-decoration-color: #00af00\">7</span>, <span style=\"color: #00af00; text-decoration-color: #00af00\">16</span>)            │               <span style=\"color: #00af00; text-decoration-color: #00af00\">0</span> │\n",
              "├──────────────────────────────────────┼─────────────────────────────┼─────────────────┤\n",
              "│ conv2d_5 (<span style=\"color: #0087ff; text-decoration-color: #0087ff\">Conv2D</span>)                    │ (<span style=\"color: #00d7ff; text-decoration-color: #00d7ff\">None</span>, <span style=\"color: #00af00; text-decoration-color: #00af00\">7</span>, <span style=\"color: #00af00; text-decoration-color: #00af00\">7</span>, <span style=\"color: #00af00; text-decoration-color: #00af00\">16</span>)            │           <span style=\"color: #00af00; text-decoration-color: #00af00\">2,320</span> │\n",
              "├──────────────────────────────────────┼─────────────────────────────┼─────────────────┤\n",
              "│ max_pooling2d_5 (<span style=\"color: #0087ff; text-decoration-color: #0087ff\">MaxPooling2D</span>)       │ (<span style=\"color: #00d7ff; text-decoration-color: #00d7ff\">None</span>, <span style=\"color: #00af00; text-decoration-color: #00af00\">3</span>, <span style=\"color: #00af00; text-decoration-color: #00af00\">3</span>, <span style=\"color: #00af00; text-decoration-color: #00af00\">16</span>)            │               <span style=\"color: #00af00; text-decoration-color: #00af00\">0</span> │\n",
              "├──────────────────────────────────────┼─────────────────────────────┼─────────────────┤\n",
              "│ flatten_1 (<span style=\"color: #0087ff; text-decoration-color: #0087ff\">Flatten</span>)                  │ (<span style=\"color: #00d7ff; text-decoration-color: #00d7ff\">None</span>, <span style=\"color: #00af00; text-decoration-color: #00af00\">144</span>)                 │               <span style=\"color: #00af00; text-decoration-color: #00af00\">0</span> │\n",
              "├──────────────────────────────────────┼─────────────────────────────┼─────────────────┤\n",
              "│ dense_3 (<span style=\"color: #0087ff; text-decoration-color: #0087ff\">Dense</span>)                      │ (<span style=\"color: #00d7ff; text-decoration-color: #00d7ff\">None</span>, <span style=\"color: #00af00; text-decoration-color: #00af00\">128</span>)                 │          <span style=\"color: #00af00; text-decoration-color: #00af00\">18,560</span> │\n",
              "├──────────────────────────────────────┼─────────────────────────────┼─────────────────┤\n",
              "│ dropout_2 (<span style=\"color: #0087ff; text-decoration-color: #0087ff\">Dropout</span>)                  │ (<span style=\"color: #00d7ff; text-decoration-color: #00d7ff\">None</span>, <span style=\"color: #00af00; text-decoration-color: #00af00\">128</span>)                 │               <span style=\"color: #00af00; text-decoration-color: #00af00\">0</span> │\n",
              "├──────────────────────────────────────┼─────────────────────────────┼─────────────────┤\n",
              "│ dense_4 (<span style=\"color: #0087ff; text-decoration-color: #0087ff\">Dense</span>)                      │ (<span style=\"color: #00d7ff; text-decoration-color: #00d7ff\">None</span>, <span style=\"color: #00af00; text-decoration-color: #00af00\">64</span>)                  │           <span style=\"color: #00af00; text-decoration-color: #00af00\">8,256</span> │\n",
              "├──────────────────────────────────────┼─────────────────────────────┼─────────────────┤\n",
              "│ dropout_3 (<span style=\"color: #0087ff; text-decoration-color: #0087ff\">Dropout</span>)                  │ (<span style=\"color: #00d7ff; text-decoration-color: #00d7ff\">None</span>, <span style=\"color: #00af00; text-decoration-color: #00af00\">64</span>)                  │               <span style=\"color: #00af00; text-decoration-color: #00af00\">0</span> │\n",
              "├──────────────────────────────────────┼─────────────────────────────┼─────────────────┤\n",
              "│ dense_5 (<span style=\"color: #0087ff; text-decoration-color: #0087ff\">Dense</span>)                      │ (<span style=\"color: #00d7ff; text-decoration-color: #00d7ff\">None</span>, <span style=\"color: #00af00; text-decoration-color: #00af00\">10</span>)                  │             <span style=\"color: #00af00; text-decoration-color: #00af00\">650</span> │\n",
              "└──────────────────────────────────────┴─────────────────────────────┴─────────────────┘\n",
              "</pre>\n"
            ]
          },
          "metadata": {}
        },
        {
          "output_type": "display_data",
          "data": {
            "text/plain": [
              "\u001b[1m Total params: \u001b[0m\u001b[38;5;34m32,266\u001b[0m (126.04 KB)\n"
            ],
            "text/html": [
              "<pre style=\"white-space:pre;overflow-x:auto;line-height:normal;font-family:Menlo,'DejaVu Sans Mono',consolas,'Courier New',monospace\"><span style=\"font-weight: bold\"> Total params: </span><span style=\"color: #00af00; text-decoration-color: #00af00\">32,266</span> (126.04 KB)\n",
              "</pre>\n"
            ]
          },
          "metadata": {}
        },
        {
          "output_type": "display_data",
          "data": {
            "text/plain": [
              "\u001b[1m Trainable params: \u001b[0m\u001b[38;5;34m32,266\u001b[0m (126.04 KB)\n"
            ],
            "text/html": [
              "<pre style=\"white-space:pre;overflow-x:auto;line-height:normal;font-family:Menlo,'DejaVu Sans Mono',consolas,'Courier New',monospace\"><span style=\"font-weight: bold\"> Trainable params: </span><span style=\"color: #00af00; text-decoration-color: #00af00\">32,266</span> (126.04 KB)\n",
              "</pre>\n"
            ]
          },
          "metadata": {}
        },
        {
          "output_type": "display_data",
          "data": {
            "text/plain": [
              "\u001b[1m Non-trainable params: \u001b[0m\u001b[38;5;34m0\u001b[0m (0.00 B)\n"
            ],
            "text/html": [
              "<pre style=\"white-space:pre;overflow-x:auto;line-height:normal;font-family:Menlo,'DejaVu Sans Mono',consolas,'Courier New',monospace\"><span style=\"font-weight: bold\"> Non-trainable params: </span><span style=\"color: #00af00; text-decoration-color: #00af00\">0</span> (0.00 B)\n",
              "</pre>\n"
            ]
          },
          "metadata": {}
        }
      ],
      "source": [
        "#create a neural network using Keras\n",
        "model=keras.models.Sequential()\n",
        "\n",
        "model.add(keras.Input(shape=(28,28,1)))\n",
        "\n",
        "model.add(tf.keras.layers.Conv2D(filters=16, kernel_size=(3,3),activation='relu', padding='same'))\n",
        "model.add(tf.keras.layers.MaxPooling2D(pool_size=(2,2)))\n",
        "\n",
        "model.add(tf.keras.layers.Conv2D(filters=16, kernel_size=(3,3),activation='relu', padding='same'))\n",
        "model.add(tf.keras.layers.MaxPooling2D(pool_size=(2,2)))\n",
        "\n",
        "model.add(tf.keras.layers.Conv2D(filters=16, kernel_size=(3,3),activation='relu', padding='same'))\n",
        "model.add(tf.keras.layers.MaxPooling2D(pool_size=(2,2)))\n",
        "\n",
        "model.add(tf.keras.layers.Flatten())\n",
        "\n",
        "# Densely connected layers\n",
        "model.add(tf.keras.layers.Dense(128, activation='relu'))\n",
        "\n",
        "model.add(tf.keras.layers.Dropout(0.5))\n",
        "\n",
        "model.add(tf.keras.layers.Dense(64, activation='relu'))\n",
        "\n",
        "model.add(tf.keras.layers.Dropout(0.2))\n",
        "\n",
        "# output layer\n",
        "model.add(tf.keras.layers.Dense(10, activation='softmax'))\n",
        "\n",
        "model.summary()"
      ]
    },
    {
      "cell_type": "markdown",
      "metadata": {
        "id": "dumXoUT0q0SI"
      },
      "source": [
        "##Questions\n",
        "Look at different layers in the CNN:\n",
        "1. What is the size of the kernel in the 1st convolutional layer?\n",
        "1. How many kernels do we have in the 1st conv layer?\n",
        "1. How many parameters are in the 1st conv layer? What do they correspond to?\n",
        "1. What is the size of the 1st pooling layer?\n",
        "1. Compare the number of parameters in a NN. What do you notice?\n",
        "\n",
        "##<font color=\"red\">Answers</font>\n",
        "\n",
        "\n",
        "1. <font color=\"red\">3x3. In fact, all convolutional layers are using 3x3 filters, which is quite easy to see in the code.</font>\n",
        "1. <font color=\"red\">16.</font>\n",
        "1. <font color=\"red\">16 filters, 9 parameters per filter. A total of 16*9=144. The extra 16 parameters are biases for the 16 filters. See the [Keras reference here](https://keras.io/api/layers/convolution_layers/convolution2d/). If you wonder about the number of parameters in the 2nd conv layer, see [this web page](https://dingyan89.medium.com/calculating-parameters-of-convolutional-and-fully-connected-layers-with-keras-186590df36c6) which discusses how the number of parameters in a conv layer is calculated.</font>\n",
        "1. <font color=\"red\">The 1st pooling layer is using a size of 2x2. It is thus reducing the feature map to half its size from 28x28 to 14x14. Note that we use a padding of \"same\" in the convultional layer. So there is no size shrink in the feature map before pooling.</font>\n",
        "1. <font color=\"red\">In this CNN, we have 32266 parameters. In the last NN in Lab 03, we had 266610 parameters. That is 8.2 times!</font>\n",
        "\n"
      ]
    },
    {
      "cell_type": "markdown",
      "metadata": {
        "id": "p6Z_PJ2Izv23"
      },
      "source": [
        "##Preparing the Labels\n",
        "\n",
        "There are 10 classes in the dataset.\n",
        "The output layer, with 10 neurons, expect a hot-one encoding.\n",
        "For example, an output label of `4` is expected in the form of a vector/array: `[0,0,0,1,0,0,0,0,0,0]`.\n",
        "\n",
        "The following code show you the shape of the training dataset labels, and the first element value:"
      ]
    },
    {
      "cell_type": "code",
      "execution_count": 22,
      "metadata": {
        "colab": {
          "base_uri": "https://localhost:8080/"
        },
        "id": "a9vwYSo90XdM",
        "outputId": "af2c1d0d-2193-4981-96b0-64bdaecd7035"
      },
      "outputs": [
        {
          "output_type": "stream",
          "name": "stdout",
          "text": [
            "y_train shape:  (55000,)\n",
            "y_train[0]:  4\n"
          ]
        }
      ],
      "source": [
        "print('y_train shape: ',y_train.shape)\n",
        "print('y_train[0]: ',y_train[0])"
      ]
    },
    {
      "cell_type": "markdown",
      "metadata": {
        "id": "9qNMYySh0yFy"
      },
      "source": [
        "Instead of a value of 4, we want the output in the 1-hot-encoding format. e.g. a vector [0,0,0,0,1,0,0,0,0,0]. The following code converts the output datasets into the expected format/encoding. We use a utility function [`keras.utils.categorical(...)`](https://keras.io/api/utils/python_utils/#tocategorical-function):. Note that we only do this to the output label. i.e. Y:"
      ]
    },
    {
      "cell_type": "code",
      "execution_count": 23,
      "metadata": {
        "colab": {
          "base_uri": "https://localhost:8080/"
        },
        "id": "OWJ1vmYt0-xh",
        "outputId": "1112c761-c68b-47ad-e46d-61cde74665e9"
      },
      "outputs": [
        {
          "output_type": "stream",
          "name": "stdout",
          "text": [
            "y_train_cat.shape:  (55000, 10)\n",
            "y_train_cat[0]:  [0. 0. 0. 0. 1. 0. 0. 0. 0. 0.]\n"
          ]
        }
      ],
      "source": [
        "y_train_cat=keras.utils.to_categorical(y_train)\n",
        "y_test_cat=keras.utils.to_categorical(y_test)\n",
        "y_valid_cat=keras.utils.to_categorical(y_valid)\n",
        "\n",
        "print('y_train_cat.shape: ',y_train_cat.shape)\n",
        "print('y_train_cat[0]: ',y_train_cat[0])"
      ]
    },
    {
      "cell_type": "markdown",
      "metadata": {
        "id": "Gvm18-7hq80F"
      },
      "source": [
        "##Compiling and Training the Model\n",
        "\n",
        "Now we can compile and train the model.\n",
        "This time we are using the [Adam optimizer](https://keras.io/api/optimizers/adam/).\n",
        "Loss function is [categorical_cross_entropy](https://keras.io/api/losses/probabilistic_losses/#categoricalcrossentropy-class).\n",
        "\n",
        "##Questions:\n",
        "1. Look at the output dataset (i.e. `y_train_cat`). Why do you think we use `categorical_crossentropy` as the loss function?\n",
        "\n",
        "##<font color=\"red\">Answers:</font>\n",
        "1. <font color=\"red\">Our output has 10 classes, represented as a vector in one-hot-encoding. `categorical_crossentropy` is the appropriate loss function. Read the link above for more information.</font>"
      ]
    },
    {
      "cell_type": "code",
      "execution_count": 24,
      "metadata": {
        "colab": {
          "base_uri": "https://localhost:8080/"
        },
        "id": "TK7qov0vr5zP",
        "outputId": "0c15c4eb-0200-4fd3-ef99-456d049ae511"
      },
      "outputs": [
        {
          "output_type": "stream",
          "name": "stdout",
          "text": [
            "Epoch 1/20\n",
            "\u001b[1m1719/1719\u001b[0m \u001b[32m━━━━━━━━━━━━━━━━━━━━\u001b[0m\u001b[37m\u001b[0m \u001b[1m13s\u001b[0m 5ms/step - accuracy: 0.6078 - loss: 1.0361 - val_accuracy: 0.8466 - val_loss: 0.4135\n",
            "Epoch 2/20\n",
            "\u001b[1m1719/1719\u001b[0m \u001b[32m━━━━━━━━━━━━━━━━━━━━\u001b[0m\u001b[37m\u001b[0m \u001b[1m5s\u001b[0m 3ms/step - accuracy: 0.8256 - loss: 0.4777 - val_accuracy: 0.8664 - val_loss: 0.3528\n",
            "Epoch 3/20\n",
            "\u001b[1m1719/1719\u001b[0m \u001b[32m━━━━━━━━━━━━━━━━━━━━\u001b[0m\u001b[37m\u001b[0m \u001b[1m10s\u001b[0m 3ms/step - accuracy: 0.8526 - loss: 0.4100 - val_accuracy: 0.8842 - val_loss: 0.3160\n",
            "Epoch 4/20\n",
            "\u001b[1m1719/1719\u001b[0m \u001b[32m━━━━━━━━━━━━━━━━━━━━\u001b[0m\u001b[37m\u001b[0m \u001b[1m6s\u001b[0m 4ms/step - accuracy: 0.8690 - loss: 0.3682 - val_accuracy: 0.8926 - val_loss: 0.2964\n",
            "Epoch 5/20\n",
            "\u001b[1m1719/1719\u001b[0m \u001b[32m━━━━━━━━━━━━━━━━━━━━\u001b[0m\u001b[37m\u001b[0m \u001b[1m5s\u001b[0m 3ms/step - accuracy: 0.8757 - loss: 0.3423 - val_accuracy: 0.8864 - val_loss: 0.3036\n",
            "Epoch 6/20\n",
            "\u001b[1m1719/1719\u001b[0m \u001b[32m━━━━━━━━━━━━━━━━━━━━\u001b[0m\u001b[37m\u001b[0m \u001b[1m6s\u001b[0m 3ms/step - accuracy: 0.8835 - loss: 0.3228 - val_accuracy: 0.9012 - val_loss: 0.2792\n",
            "Epoch 7/20\n",
            "\u001b[1m1719/1719\u001b[0m \u001b[32m━━━━━━━━━━━━━━━━━━━━\u001b[0m\u001b[37m\u001b[0m \u001b[1m6s\u001b[0m 3ms/step - accuracy: 0.8911 - loss: 0.3022 - val_accuracy: 0.9016 - val_loss: 0.2695\n",
            "Epoch 8/20\n",
            "\u001b[1m1719/1719\u001b[0m \u001b[32m━━━━━━━━━━━━━━━━━━━━\u001b[0m\u001b[37m\u001b[0m \u001b[1m11s\u001b[0m 4ms/step - accuracy: 0.8929 - loss: 0.2960 - val_accuracy: 0.9006 - val_loss: 0.2668\n",
            "Epoch 9/20\n",
            "\u001b[1m1719/1719\u001b[0m \u001b[32m━━━━━━━━━━━━━━━━━━━━\u001b[0m\u001b[37m\u001b[0m \u001b[1m10s\u001b[0m 4ms/step - accuracy: 0.8984 - loss: 0.2839 - val_accuracy: 0.9084 - val_loss: 0.2507\n",
            "Epoch 10/20\n",
            "\u001b[1m1719/1719\u001b[0m \u001b[32m━━━━━━━━━━━━━━━━━━━━\u001b[0m\u001b[37m\u001b[0m \u001b[1m10s\u001b[0m 3ms/step - accuracy: 0.8980 - loss: 0.2792 - val_accuracy: 0.9074 - val_loss: 0.2568\n",
            "Epoch 11/20\n",
            "\u001b[1m1719/1719\u001b[0m \u001b[32m━━━━━━━━━━━━━━━━━━━━\u001b[0m\u001b[37m\u001b[0m \u001b[1m10s\u001b[0m 3ms/step - accuracy: 0.9027 - loss: 0.2723 - val_accuracy: 0.9064 - val_loss: 0.2593\n",
            "Epoch 12/20\n",
            "\u001b[1m1719/1719\u001b[0m \u001b[32m━━━━━━━━━━━━━━━━━━━━\u001b[0m\u001b[37m\u001b[0m \u001b[1m10s\u001b[0m 3ms/step - accuracy: 0.9019 - loss: 0.2672 - val_accuracy: 0.9054 - val_loss: 0.2585\n",
            "Epoch 13/20\n",
            "\u001b[1m1719/1719\u001b[0m \u001b[32m━━━━━━━━━━━━━━━━━━━━\u001b[0m\u001b[37m\u001b[0m \u001b[1m10s\u001b[0m 3ms/step - accuracy: 0.9052 - loss: 0.2621 - val_accuracy: 0.9086 - val_loss: 0.2546\n",
            "Epoch 14/20\n",
            "\u001b[1m1719/1719\u001b[0m \u001b[32m━━━━━━━━━━━━━━━━━━━━\u001b[0m\u001b[37m\u001b[0m \u001b[1m10s\u001b[0m 3ms/step - accuracy: 0.9079 - loss: 0.2552 - val_accuracy: 0.9046 - val_loss: 0.2579\n",
            "Epoch 15/20\n",
            "\u001b[1m1719/1719\u001b[0m \u001b[32m━━━━━━━━━━━━━━━━━━━━\u001b[0m\u001b[37m\u001b[0m \u001b[1m10s\u001b[0m 3ms/step - accuracy: 0.9081 - loss: 0.2519 - val_accuracy: 0.9148 - val_loss: 0.2444\n",
            "Epoch 16/20\n",
            "\u001b[1m1719/1719\u001b[0m \u001b[32m━━━━━━━━━━━━━━━━━━━━\u001b[0m\u001b[37m\u001b[0m \u001b[1m5s\u001b[0m 3ms/step - accuracy: 0.9113 - loss: 0.2500 - val_accuracy: 0.9102 - val_loss: 0.2468\n",
            "Epoch 17/20\n",
            "\u001b[1m1719/1719\u001b[0m \u001b[32m━━━━━━━━━━━━━━━━━━━━\u001b[0m\u001b[37m\u001b[0m \u001b[1m10s\u001b[0m 3ms/step - accuracy: 0.9084 - loss: 0.2483 - val_accuracy: 0.9126 - val_loss: 0.2456\n",
            "Epoch 18/20\n",
            "\u001b[1m1719/1719\u001b[0m \u001b[32m━━━━━━━━━━━━━━━━━━━━\u001b[0m\u001b[37m\u001b[0m \u001b[1m10s\u001b[0m 3ms/step - accuracy: 0.9147 - loss: 0.2365 - val_accuracy: 0.9156 - val_loss: 0.2422\n",
            "Epoch 19/20\n",
            "\u001b[1m1719/1719\u001b[0m \u001b[32m━━━━━━━━━━━━━━━━━━━━\u001b[0m\u001b[37m\u001b[0m \u001b[1m10s\u001b[0m 3ms/step - accuracy: 0.9147 - loss: 0.2348 - val_accuracy: 0.9158 - val_loss: 0.2439\n",
            "Epoch 20/20\n",
            "\u001b[1m1719/1719\u001b[0m \u001b[32m━━━━━━━━━━━━━━━━━━━━\u001b[0m\u001b[37m\u001b[0m \u001b[1m11s\u001b[0m 3ms/step - accuracy: 0.9160 - loss: 0.2320 - val_accuracy: 0.9164 - val_loss: 0.2338\n"
          ]
        }
      ],
      "source": [
        "# compile with adam optimizer & categorical_crossentropy loss function\n",
        "model.compile(optimizer='adam', loss='categorical_crossentropy',metrics=['accuracy'])\n",
        "\n",
        "#train model\n",
        "history=model.fit(x_train,y_train_cat,epochs=20,\n",
        "                  validation_data=(x_valid,y_valid_cat))\n"
      ]
    },
    {
      "cell_type": "markdown",
      "metadata": {
        "id": "jBihw7WIrIgk"
      },
      "source": [
        "##Visualising the Training\n",
        "\n",
        "The following code (from Lab 03) shows the graphs of loss, accuracy, validation-loss, and validation-accuracy as the training progressed:"
      ]
    },
    {
      "cell_type": "code",
      "execution_count": 25,
      "metadata": {
        "colab": {
          "base_uri": "https://localhost:8080/",
          "height": 597
        },
        "id": "NJZq15EFxS25",
        "outputId": "bfda3f51-015f-4e9d-c5e3-6a0710239a5a"
      },
      "outputs": [
        {
          "output_type": "stream",
          "name": "stdout",
          "text": [
            "dict_keys(['accuracy', 'loss', 'val_accuracy', 'val_loss'])\n"
          ]
        },
        {
          "output_type": "display_data",
          "data": {
            "text/plain": [
              "<Figure size 1500x800 with 1 Axes>"
            ],
            "image/png": "[encoded data removed]"
          },
          "metadata": {}
        }
      ],
      "source": [
        "import pandas as pd\n",
        "import matplotlib.pyplot as pyplot\n",
        "\n",
        "#show keys in the history\n",
        "print(history.history.keys())\n",
        "\n",
        "#plot graphs\n",
        "pd.DataFrame(history.history).plot(figsize=(15,8))\n",
        "pyplot.grid(True)\n",
        "pyplot.gca().set_ylim(0,1)\n",
        "pyplot.show()"
      ]
    },
    {
      "cell_type": "markdown",
      "metadata": {
        "id": "NYvILnHoxvg5"
      },
      "source": [
        "##Question\n",
        "1. What do you observe in the graphs?\n",
        "1. What does this compare with the NN solution in Lab 03 on the same dataset?\n",
        "\n",
        "##Answers\n",
        "1. <font color=\"red\">The patterns are quite normal for a training task: Accuracy increases, and loss decreases as the training progresses.</font>\n",
        "1. <font color=\"red\">There are some major difference comparison the training statistics of CNN versus NN (Lab 03): Firstly, we only trained for 20 epoches in the CNN, versus 30 in the NN. Secondly, at the same epoch, accuracy is higher, and loss is lower in the CNN.</font>"
      ]
    },
    {
      "cell_type": "markdown",
      "metadata": {
        "id": "hINWcFxqY9qQ"
      },
      "source": [
        "##Testing the Model\n",
        "\n",
        "Finally, we use the testing dataset to evaluate the CNN's performance on unseen data:"
      ]
    },
    {
      "cell_type": "code",
      "execution_count": 26,
      "metadata": {
        "colab": {
          "base_uri": "https://localhost:8080/"
        },
        "id": "o1UwUuYmyyjZ",
        "outputId": "e7b08f73-4066-47fb-83f0-6ded939489ef"
      },
      "outputs": [
        {
          "output_type": "stream",
          "name": "stdout",
          "text": [
            "\u001b[1m313/313\u001b[0m \u001b[32m━━━━━━━━━━━━━━━━━━━━\u001b[0m\u001b[37m\u001b[0m \u001b[1m1s\u001b[0m 3ms/step - accuracy: 0.8203 - loss: 32.6219\n",
            "Loss:  32.64079284667969\n",
            "Accuracy:  82.0 %\n"
          ]
        }
      ],
      "source": [
        "#evaluate the model using the testing dataset\n",
        "(loss,accuracy)=model.evaluate(x_test,y_test_cat)\n",
        "\n",
        "print('Loss: ',loss)\n",
        "print('Accuracy: ',round(accuracy,2)*100,'%')"
      ]
    },
    {
      "cell_type": "markdown",
      "metadata": {
        "id": "LFmZ1ALBrOA2"
      },
      "source": [
        "##Questions\n",
        "\n",
        "1. How does the performance of the CNN compare with the NN in Lab 03?\n",
        "1. Suggest ways to improve the model's performance.\n",
        "\n",
        "##<font color=\"red\">Answers</font>\n",
        "1. <font color=\"red\">NN in Lab 03: Loss=71.9822. Accuracy=87.0%. interesting enough, the CNN has a lower loss but also a lower accuracy than the NN. The lower loss is a good thing. But the lower accuracy is no good.</font>\n",
        "1. <font color=\"red\">There are various reasons for this. It could be that the training data are not good representation of the dataset as we do not sample. If the distribution of classes is not even then some classes can be over/under-represented in the training set. It does not look like an over-fitting issue though, as the graph is still showing a steady increase in accuracy.</font>"
      ]
    },
    {
      "cell_type": "markdown",
      "metadata": {
        "id": "dUN3QaDB219X"
      },
      "source": [
        "##Doing Prediction\n",
        "\n",
        "The following code below from Lab 03 takes a random image from the testing dataset and does a prediction of its class:"
      ]
    },
    {
      "cell_type": "code",
      "execution_count": 27,
      "metadata": {
        "colab": {
          "base_uri": "https://localhost:8080/",
          "height": 522
        },
        "id": "r-oowJ0HygXP",
        "outputId": "14a0a4da-b126-4658-d013-589ca0ace5aa"
      },
      "outputs": [
        {
          "output_type": "stream",
          "name": "stdout",
          "text": [
            "Image shape:  (1, 28, 28)\n",
            "\u001b[1m1/1\u001b[0m \u001b[32m━━━━━━━━━━━━━━━━━━━━\u001b[0m\u001b[37m\u001b[0m \u001b[1m0s\u001b[0m 304ms/step\n",
            "Prediction output:  [0. 0. 1. 0. 0. 0. 0. 0. 0. 0.]\n",
            "Predicted class:  Pullover\n",
            "Known class:  Pullover\n"
          ]
        },
        {
          "output_type": "display_data",
          "data": {
            "text/plain": [
              "<Figure size 640x480 with 1 Axes>"
            ],
            "image/png": "[encoded data removed]"
          },
          "metadata": {}
        }
      ],
      "source": [
        "import numpy as np\n",
        "import random\n",
        "\n",
        "#class names in an array\n",
        "class_names=['T-shirt/top','Trouser','Pullover','Dress','Coat','Sandal','Shirt','Sneaker','Bag','Ankle boot']\n",
        "\n",
        "#get a random image from the testing dataset\n",
        "(instance_count,width,height)=x_test.shape    #get dataset size\n",
        "index=random.randint(0,instance_count-1)      #get an index witin dataset\n",
        "image=x_test[index]                           #get image\n",
        "pyplot.imshow(image,cmap='gray')              #show image\n",
        "\n",
        "#need to add 1 dimension to array to fit input shape\n",
        "oneImage=np.expand_dims(image,axis=0)\n",
        "print('Image shape: ',oneImage.shape)\n",
        "\n",
        "#predict image class\n",
        "[prediction]=model.predict(oneImage)\n",
        "print('Prediction output: ',prediction)\n",
        "\n",
        "#The output is a vector. We need to find the index with the highest value.\n",
        "#Luckily numpy has a handy function to do this.\n",
        "classIndex=np.argmax(prediction,axis=-1)\n",
        "\n",
        "#With the class index found, we can get the class name form the array/list.\n",
        "predictedClass=class_names[classIndex]\n",
        "print('Predicted class: ',predictedClass)\n",
        "print('Known class: ',class_names[y_test[index]])"
      ]
    }
  ],
  "metadata": {
    "accelerator": "GPU",
    "colab": {
      "provenance": [],
      "authorship_tag": "ABX9TyOnqWROTrudZt/OXTf+KgQg"
    },
    "gpuClass": "standard",
    "kernelspec": {
      "display_name": "Python 3",
      "name": "python3"
    },
    "language_info": {
      "name": "python"
    }
  },
  "nbformat": 4,
  "nbformat_minor": 0
}