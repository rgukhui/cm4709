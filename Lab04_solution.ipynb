{
  "cells": [
    {
      "cell_type": "markdown",
      "metadata": {
        "id": "view-in-github",
        "colab_type": "text"
      },
      "source": [
        "<a href=\"https://colab.research.google.com/github/rgukhui/cm4709/blob/main/Lab04_solution.ipynb\" target=\"_parent\"><img src=\"https://colab.research.google.com/assets/colab-badge.svg\" alt=\"Open In Colab\"/></a>"
      ]
    },
    {
      "cell_type": "markdown",
      "metadata": {
        "id": "1dKSC_pRqAme"
      },
      "source": [
        "#CM4709 Computer Vision\n",
        "#Lab 04 Convolutional Neural Network\n",
        "\n",
        "##Aims\n",
        "1. Use the Keras library to build a Convolutional Neural Network (CNN).\n",
        "1. Use a CNN to classify images in the Fashion MNIST dataset.\n",
        "\n",
        "\n",
        "##The Fashion MNIST Dataset\n",
        "\n",
        "In Lab 03, we used a Neural Network to classify images in the [fashion MNIST dataset](https://www.kaggle.com/datasets/zalando-research/fashionmnist).\n",
        "This week, we will use a Convolutional Neural Network (CNN) to do the same job.\n",
        "We will compare the performance of these 2 approaches before any tuning.\n",
        "\n",
        "The following code is from Lab 03.\n",
        "It simply loads the Fashion MNIST data and prepare the training, validation, and testing datasets.\n",
        "\n",
        "There is no change from last week:\n"
      ]
    },
    {
      "cell_type": "code",
      "execution_count": 1,
      "metadata": {
        "colab": {
          "base_uri": "https://localhost:8080/"
        },
        "id": "MGbyIS0Y2FXy",
        "outputId": "2b916dd2-3d34-437e-c0ca-628ff0d89476"
      },
      "outputs": [
        {
          "output_type": "stream",
          "name": "stdout",
          "text": [
            "Downloading data from https://storage.googleapis.com/tensorflow/tf-keras-datasets/train-labels-idx1-ubyte.gz\n",
            "29515/29515 [==============================] - 0s 0us/step\n",
            "Downloading data from https://storage.googleapis.com/tensorflow/tf-keras-datasets/train-images-idx3-ubyte.gz\n",
            "26421880/26421880 [==============================] - 2s 0us/step\n",
            "Downloading data from https://storage.googleapis.com/tensorflow/tf-keras-datasets/t10k-labels-idx1-ubyte.gz\n",
            "5148/5148 [==============================] - 0s 0us/step\n",
            "Downloading data from https://storage.googleapis.com/tensorflow/tf-keras-datasets/t10k-images-idx3-ubyte.gz\n",
            "4422102/4422102 [==============================] - 1s 0us/step\n",
            "Full training dataset (images):  (60000, 28, 28)\n",
            "Full training dataset (labels):  (60000,)\n",
            "  Training dataset (images):  (55000, 28, 28)\n",
            "  Training dataset (labels):  (55000,)\n",
            "  Validation dataset (images):  (5000, 28, 28)\n",
            "  Validation dataset (labels):  (5000,)\n",
            "Testing dataset (images):  (10000, 28, 28)\n",
            "Testing dataset (labels):  (10000,)\n"
          ]
        }
      ],
      "source": [
        "#import libraries\n",
        "import tensorflow as tf\n",
        "from tensorflow import keras\n",
        "\n",
        "#load dataset from Keras\n",
        "(x_train_full,y_train_full),(x_test,y_test)=keras.datasets.fashion_mnist.load_data()\n",
        "\n",
        "#split full training dataset into validation and training subsets\n",
        "x_valid=x_train_full[:5000]/255.0\n",
        "x_train=x_train_full[5000:]/255.0\n",
        "y_valid=y_train_full[:5000]\n",
        "y_train=y_train_full[5000:]\n",
        "\n",
        "print('Full training dataset (images): ',x_train_full.shape)\n",
        "print('Full training dataset (labels): ',y_train_full.shape)\n",
        "print('  Training dataset (images): ',x_train.shape)\n",
        "print('  Training dataset (labels): ',y_train.shape)\n",
        "print('  Validation dataset (images): ',x_valid.shape)\n",
        "print('  Validation dataset (labels): ',y_valid.shape)\n",
        "print('Testing dataset (images): ',x_test.shape)\n",
        "print('Testing dataset (labels): ',y_test.shape)\n"
      ]
    },
    {
      "cell_type": "markdown",
      "metadata": {
        "id": "rmO3L5yXqsNQ"
      },
      "source": [
        "##Building the Neural Network\n",
        "\n",
        "The following code builds a neural network of 4 layers.\n",
        "1. We use a [Sequential model](https://keras.io/guides/sequential_model/).\n",
        "1. The input will feed into a [Conv2D](https://keras.io/api/layers/convolution_layers/convolution2d/) layer.\n",
        "1. This is followed by a [MaxPooling2D](https://keras.io/api/layers/pooling_layers/max_pooling2d/) layer.\n",
        "1. Then another [Conv2D](https://keras.io/api/layers/convolution_layers/convolution2d/) layer.\n",
        "1. And another [MaxPooling2D](https://keras.io/api/layers/pooling_layers/max_pooling2d/) layer.\n",
        "1. Then we flatten the layer.\n",
        "1. Fit it into a [Dense](https://keras.io/api/layers/core_layers/dense/) layer.\n",
        "1. Finally the output layer has 1 neurons, corresponding to the 10 classes in the dataset. Again, we use the [Softmax activation function](https://keras.io/api/layers/activations/#softmax-function) in the output layer."
      ]
    },
    {
      "cell_type": "code",
      "execution_count": 2,
      "metadata": {
        "colab": {
          "base_uri": "https://localhost:8080/"
        },
        "id": "o_S58ieqrCge",
        "outputId": "cf3b2784-a45b-4586-8559-2fd41ebcc9ed"
      },
      "outputs": [
        {
          "output_type": "stream",
          "name": "stdout",
          "text": [
            "Model: \"sequential\"\n",
            "_________________________________________________________________\n",
            " Layer (type)                Output Shape              Param #   \n",
            "=================================================================\n",
            " conv2d (Conv2D)             (None, 28, 28, 16)        160       \n",
            "                                                                 \n",
            " max_pooling2d (MaxPooling2  (None, 14, 14, 16)        0         \n",
            " D)                                                              \n",
            "                                                                 \n",
            " conv2d_1 (Conv2D)           (None, 14, 14, 16)        2320      \n",
            "                                                                 \n",
            " max_pooling2d_1 (MaxPoolin  (None, 7, 7, 16)          0         \n",
            " g2D)                                                            \n",
            "                                                                 \n",
            " conv2d_2 (Conv2D)           (None, 7, 7, 16)          2320      \n",
            "                                                                 \n",
            " max_pooling2d_2 (MaxPoolin  (None, 3, 3, 16)          0         \n",
            " g2D)                                                            \n",
            "                                                                 \n",
            " flatten (Flatten)           (None, 144)               0         \n",
            "                                                                 \n",
            " dense (Dense)               (None, 128)               18560     \n",
            "                                                                 \n",
            " dropout (Dropout)           (None, 128)               0         \n",
            "                                                                 \n",
            " dense_1 (Dense)             (None, 64)                8256      \n",
            "                                                                 \n",
            " dropout_1 (Dropout)         (None, 64)                0         \n",
            "                                                                 \n",
            " dense_2 (Dense)             (None, 10)                650       \n",
            "                                                                 \n",
            "=================================================================\n",
            "Total params: 32266 (126.04 KB)\n",
            "Trainable params: 32266 (126.04 KB)\n",
            "Non-trainable params: 0 (0.00 Byte)\n",
            "_________________________________________________________________\n"
          ]
        }
      ],
      "source": [
        "#create a neural network using Keras\n",
        "model=keras.models.Sequential()\n",
        "\n",
        "model.add(tf.keras.layers.Conv2D(filters=16, kernel_size=(3,3),activation='relu', padding='same',input_shape=(28,28,1)))\n",
        "model.add(tf.keras.layers.MaxPooling2D(pool_size=(2,2)))\n",
        "\n",
        "model.add(tf.keras.layers.Conv2D(filters=16, kernel_size=(3,3),activation='relu', padding='same'))\n",
        "model.add(tf.keras.layers.MaxPooling2D(pool_size=(2,2)))\n",
        "\n",
        "model.add(tf.keras.layers.Conv2D(filters=16, kernel_size=(3,3),activation='relu', padding='same'))\n",
        "model.add(tf.keras.layers.MaxPooling2D(pool_size=(2,2)))\n",
        "\n",
        "model.add(tf.keras.layers.Flatten())\n",
        "\n",
        "# Densely connected layers\n",
        "model.add(tf.keras.layers.Dense(128, activation='relu'))\n",
        "\n",
        "model.add(tf.keras.layers.Dropout(0.5))\n",
        "\n",
        "model.add(tf.keras.layers.Dense(64, activation='relu'))\n",
        "\n",
        "model.add(tf.keras.layers.Dropout(0.2))\n",
        "\n",
        "# output layer\n",
        "model.add(tf.keras.layers.Dense(10, activation='softmax'))\n",
        "\n",
        "model.summary()"
      ]
    },
    {
      "cell_type": "markdown",
      "metadata": {
        "id": "dumXoUT0q0SI"
      },
      "source": [
        "##Questions\n",
        "Look at different layers in the CNN:\n",
        "1. What is the size of the kernel in the 1st convolutional layer?\n",
        "1. How many kernels do we have in the 1st conv layer?\n",
        "1. How many parameters are in the 1st conv layer? What do they correspond to?\n",
        "1. What is the size of the 1st pooling layer?\n",
        "1. Compare the number of parameters in a NN. What do you notice?\n",
        "\n",
        "##<font color=\"red\">Answers</font>\n",
        "\n",
        "\n",
        "1. <font color=\"red\">3x3. In fact, all convolutional layers are using 3x3 filters, which is quite easy to see in the code.</font>\n",
        "1. <font color=\"red\">16.</font>\n",
        "1. <font color=\"red\">16 filters, 9 parameters per filter. A total of 16*9=144. The exta 16 parameters are biases for the 16 filters. See the [Keras reference here](https://keras.io/api/layers/convolution_layers/convolution2d/).</font>\n",
        "1. <font color=\"red\">The 1st pooling layer is using a size of 2x2. It is thus reducing the feature map to half its size from 28x28 to 14x14. Note that we use a padding of \"same\" in the convultional layer. So there is no size shrink in the feature map before pooling.</font>\n",
        "1. <font color=\"red\">In this CNN, we have 32266 parameters. In the last NN in Lab 03, we had 266610 parameters. That is 8.2 times!</font>\n",
        "\n"
      ]
    },
    {
      "cell_type": "markdown",
      "metadata": {
        "id": "p6Z_PJ2Izv23"
      },
      "source": [
        "##Preparing the Labels\n",
        "\n",
        "There are 10 classes in the dataset.\n",
        "The output layer, with 10 neurons, expect a hot-one encoding.\n",
        "For example, an output label of `4` is expected in the form of a vector/array: `[0,0,0,1,0,0,0,0,0,0]`.\n",
        "\n",
        "The following code show you the shape of the training dataset labels, and the first element value:"
      ]
    },
    {
      "cell_type": "code",
      "execution_count": 3,
      "metadata": {
        "colab": {
          "base_uri": "https://localhost:8080/"
        },
        "id": "a9vwYSo90XdM",
        "outputId": "1283476f-f211-4dee-83dd-8644a2805290"
      },
      "outputs": [
        {
          "output_type": "stream",
          "name": "stdout",
          "text": [
            "y_train shape:  (55000,)\n",
            "y_train[0]:  4\n"
          ]
        }
      ],
      "source": [
        "print('y_train shape: ',y_train.shape)\n",
        "print('y_train[0]: ',y_train[0])"
      ]
    },
    {
      "cell_type": "markdown",
      "metadata": {
        "id": "9qNMYySh0yFy"
      },
      "source": [
        "Instead of a value of 4, we want the output in the 1-hot-encoding format. e.g. a vector [0,0,0,0,1,0,0,0,0,0]. The following code converts the output datasets into the expected format/encoding. We use a utility function [`keras.utils.categorical(...)`](https://keras.io/api/utils/python_utils/#tocategorical-function):. Note that we only do this to the output label. i.e. Y:"
      ]
    },
    {
      "cell_type": "code",
      "execution_count": 4,
      "metadata": {
        "colab": {
          "base_uri": "https://localhost:8080/"
        },
        "id": "OWJ1vmYt0-xh",
        "outputId": "db3ea6b5-8987-408d-ec02-ceeac7f40880"
      },
      "outputs": [
        {
          "output_type": "stream",
          "name": "stdout",
          "text": [
            "y_train_cat.shape:  (55000, 10)\n",
            "y_train_cat[0]:  [0. 0. 0. 0. 1. 0. 0. 0. 0. 0.]\n"
          ]
        }
      ],
      "source": [
        "y_train_cat=keras.utils.to_categorical(y_train)\n",
        "y_test_cat=keras.utils.to_categorical(y_test)\n",
        "y_valid_cat=keras.utils.to_categorical(y_valid)\n",
        "\n",
        "print('y_train_cat.shape: ',y_train_cat.shape)\n",
        "print('y_train_cat[0]: ',y_train_cat[0])"
      ]
    },
    {
      "cell_type": "markdown",
      "metadata": {
        "id": "Gvm18-7hq80F"
      },
      "source": [
        "##Compiling and Training the Model\n",
        "\n",
        "Now we can compile and train the model.\n",
        "This time we are using the [Adam optimizer](https://keras.io/api/optimizers/adam/).\n",
        "Loss function is [categorical_cross_entropy[(https://keras.io/api/losses/probabilistic_losses/#categoricalcrossentropy-class).\n",
        "\n",
        "##Questions:\n",
        "1. Look at the output dataset (i.e. `y_train_cat`). Why do you think we use `categorical_crossentropy` as the loss function?"
      ]
    },
    {
      "cell_type": "code",
      "execution_count": 5,
      "metadata": {
        "colab": {
          "base_uri": "https://localhost:8080/"
        },
        "id": "TK7qov0vr5zP",
        "outputId": "00ad22e0-f099-457f-8be6-acf4318c0ede"
      },
      "outputs": [
        {
          "output_type": "stream",
          "name": "stdout",
          "text": [
            "Epoch 1/20\n",
            "1719/1719 [==============================] - 20s 6ms/step - loss: 0.7247 - accuracy: 0.7318 - val_loss: 0.4261 - val_accuracy: 0.8368\n",
            "Epoch 2/20\n",
            "1719/1719 [==============================] - 10s 6ms/step - loss: 0.4591 - accuracy: 0.8357 - val_loss: 0.3592 - val_accuracy: 0.8656\n",
            "Epoch 3/20\n",
            "1719/1719 [==============================] - 10s 6ms/step - loss: 0.3993 - accuracy: 0.8571 - val_loss: 0.3192 - val_accuracy: 0.8810\n",
            "Epoch 4/20\n",
            "1719/1719 [==============================] - 12s 7ms/step - loss: 0.3682 - accuracy: 0.8686 - val_loss: 0.3116 - val_accuracy: 0.8854\n",
            "Epoch 5/20\n",
            "1719/1719 [==============================] - 9s 5ms/step - loss: 0.3469 - accuracy: 0.8739 - val_loss: 0.2983 - val_accuracy: 0.8894\n",
            "Epoch 6/20\n",
            "1719/1719 [==============================] - 11s 6ms/step - loss: 0.3283 - accuracy: 0.8820 - val_loss: 0.2808 - val_accuracy: 0.8960\n",
            "Epoch 7/20\n",
            "1719/1719 [==============================] - 9s 5ms/step - loss: 0.3187 - accuracy: 0.8833 - val_loss: 0.2857 - val_accuracy: 0.8946\n",
            "Epoch 8/20\n",
            "1719/1719 [==============================] - 9s 5ms/step - loss: 0.3056 - accuracy: 0.8885 - val_loss: 0.2719 - val_accuracy: 0.8976\n",
            "Epoch 9/20\n",
            "1719/1719 [==============================] - 9s 5ms/step - loss: 0.2954 - accuracy: 0.8922 - val_loss: 0.2875 - val_accuracy: 0.8934\n",
            "Epoch 10/20\n",
            "1719/1719 [==============================] - 9s 5ms/step - loss: 0.2886 - accuracy: 0.8955 - val_loss: 0.2523 - val_accuracy: 0.9058\n",
            "Epoch 11/20\n",
            "1719/1719 [==============================] - 8s 5ms/step - loss: 0.2801 - accuracy: 0.8978 - val_loss: 0.2601 - val_accuracy: 0.9076\n",
            "Epoch 12/20\n",
            "1719/1719 [==============================] - 10s 6ms/step - loss: 0.2771 - accuracy: 0.8986 - val_loss: 0.2701 - val_accuracy: 0.9002\n",
            "Epoch 13/20\n",
            "1719/1719 [==============================] - 9s 5ms/step - loss: 0.2704 - accuracy: 0.9012 - val_loss: 0.2609 - val_accuracy: 0.9066\n",
            "Epoch 14/20\n",
            "1719/1719 [==============================] - 9s 5ms/step - loss: 0.2670 - accuracy: 0.9034 - val_loss: 0.2564 - val_accuracy: 0.9036\n",
            "Epoch 15/20\n",
            "1719/1719 [==============================] - 9s 5ms/step - loss: 0.2621 - accuracy: 0.9064 - val_loss: 0.2543 - val_accuracy: 0.9086\n",
            "Epoch 16/20\n",
            "1719/1719 [==============================] - 9s 5ms/step - loss: 0.2570 - accuracy: 0.9057 - val_loss: 0.2485 - val_accuracy: 0.9124\n",
            "Epoch 17/20\n",
            "1719/1719 [==============================] - 9s 5ms/step - loss: 0.2518 - accuracy: 0.9076 - val_loss: 0.2494 - val_accuracy: 0.9080\n",
            "Epoch 18/20\n",
            "1719/1719 [==============================] - 9s 5ms/step - loss: 0.2501 - accuracy: 0.9077 - val_loss: 0.2471 - val_accuracy: 0.9116\n",
            "Epoch 19/20\n",
            "1719/1719 [==============================] - 8s 5ms/step - loss: 0.2463 - accuracy: 0.9096 - val_loss: 0.2565 - val_accuracy: 0.9062\n",
            "Epoch 20/20\n",
            "1719/1719 [==============================] - 9s 5ms/step - loss: 0.2436 - accuracy: 0.9114 - val_loss: 0.2443 - val_accuracy: 0.9098\n"
          ]
        }
      ],
      "source": [
        "# compile with adam optimizer & categorical_crossentropy loss function\n",
        "model.compile(optimizer='adam', loss='categorical_crossentropy',metrics='accuracy')\n",
        "\n",
        "#train model\n",
        "history=model.fit(x_train,y_train_cat,epochs=20,\n",
        "                  validation_data=(x_valid,y_valid_cat))\n"
      ]
    },
    {
      "cell_type": "markdown",
      "metadata": {
        "id": "jBihw7WIrIgk"
      },
      "source": [
        "##Visualising the Training\n",
        "\n",
        "The following code (from Lab 03) shows the graphs of loss, accuracy, validation-loss, and validation-accuracy as the training progressed:"
      ]
    },
    {
      "cell_type": "code",
      "execution_count": 6,
      "metadata": {
        "colab": {
          "base_uri": "https://localhost:8080/",
          "height": 667
        },
        "id": "NJZq15EFxS25",
        "outputId": "99e5df9e-84e3-428c-acbc-629d6762210a"
      },
      "outputs": [
        {
          "output_type": "stream",
          "name": "stdout",
          "text": [
            "dict_keys(['loss', 'accuracy', 'val_loss', 'val_accuracy'])\n"
          ]
        },
        {
          "output_type": "display_data",
          "data": {
            "text/plain": [
              "<Figure size 1500x800 with 1 Axes>"
            ],
            "image/png": "[encoded data removed]"
          },
          "metadata": {}
        }
      ],
      "source": [
        "import pandas as pd\n",
        "import matplotlib.pyplot as pyplot\n",
        "\n",
        "#show keys in the history\n",
        "print(history.history.keys())\n",
        "\n",
        "#plot graphs\n",
        "pd.DataFrame(history.history).plot(figsize=(15,8))\n",
        "pyplot.grid(True)\n",
        "pyplot.gca().set_ylim(0,1)\n",
        "pyplot.show()"
      ]
    },
    {
      "cell_type": "markdown",
      "metadata": {
        "id": "NYvILnHoxvg5"
      },
      "source": [
        "##Question\n",
        "1. What do you observe in the graphs?\n",
        "1. What does this compare with the NN solution in Lab 03 on the same dataset?\n",
        "\n",
        "##Answers\n",
        "1. <font color=\"red\">The patterns are quite normal for a training task: Accuracy increases, and loss decreases as the training progresses.</font>\n",
        "1. <font color=\"red\">There are some major difference comparison the training statistics of CNN versus NN (Lab 03): Firstly, we only trained for 20 epoches in the CNN, versus 30 in the NN. Secondly, at the same epoch, accuracy is higher, and loss is lower in the CNN.</font>"
      ]
    },
    {
      "cell_type": "markdown",
      "metadata": {
        "id": "hINWcFxqY9qQ"
      },
      "source": [
        "##Testing the Model\n",
        "\n",
        "Finally, we use the testing dataset to evaluate the CNN's performance on unseen data:"
      ]
    },
    {
      "cell_type": "code",
      "execution_count": 7,
      "metadata": {
        "colab": {
          "base_uri": "https://localhost:8080/"
        },
        "id": "o1UwUuYmyyjZ",
        "outputId": "5c276bca-3fbb-4099-d427-093212190482"
      },
      "outputs": [
        {
          "output_type": "stream",
          "name": "stdout",
          "text": [
            "313/313 [==============================] - 2s 5ms/step - loss: 32.9171 - accuracy: 0.8208\n",
            "Loss:  32.917091369628906\n",
            "Accuracy:  82.0 %\n"
          ]
        }
      ],
      "source": [
        "#evaluate the model using the testing dataset\n",
        "(loss,accuracy)=model.evaluate(x_test,y_test_cat)\n",
        "\n",
        "print('Loss: ',loss)\n",
        "print('Accuracy: ',round(accuracy,2)*100,'%')"
      ]
    },
    {
      "cell_type": "markdown",
      "metadata": {
        "id": "LFmZ1ALBrOA2"
      },
      "source": [
        "##Questions\n",
        "\n",
        "1. How does the performance of the CNN compare with the NN in Lab 03?\n",
        "1. Suggest ways to improve the model's performance.\n",
        "\n",
        "##<font color=\"red\">Answers</font>\n",
        "1. <font color=\"red\">NN in Lab 03: Loss=71.9822. Accuracy=87.0%. interesting enough, the CNN has a lower loss but also a lower accuracy than the NN. The lower loss is a good thing. But the lower accuracy is no good.</font>\n",
        "1. <font color=\"red\">There are various reasons for this. It could be that the training data are not good representation of the dataset as we do not sample. If the distribution of classes is not even then some classes can be over/under-represented in the training set. It does not look like an over-fitting issue though, as the graph is still showing a steady increase in accuracy.</font>"
      ]
    },
    {
      "cell_type": "markdown",
      "metadata": {
        "id": "dUN3QaDB219X"
      },
      "source": [
        "##Doing Prediction\n",
        "\n",
        "The following code below from Lab 03 takes a random image from the testing dataset and does a prediction of its class:"
      ]
    },
    {
      "cell_type": "code",
      "execution_count": 8,
      "metadata": {
        "colab": {
          "base_uri": "https://localhost:8080/",
          "height": 522
        },
        "id": "r-oowJ0HygXP",
        "outputId": "f024eb33-ce81-4880-9b55-326e8e5e8fe4"
      },
      "outputs": [
        {
          "output_type": "stream",
          "name": "stdout",
          "text": [
            "Image shape:  (1, 28, 28)\n",
            "1/1 [==============================] - 0s 271ms/step\n",
            "Prediction output:  [0. 0. 0. 0. 0. 0. 0. 0. 0. 1.]\n",
            "Predicted class:  Ankle boot\n",
            "Known class:  Ankle boot\n"
          ]
        },
        {
          "output_type": "display_data",
          "data": {
            "text/plain": [
              "<Figure size 640x480 with 1 Axes>"
            ],
            "image/png": "[encoded data removed]"
          },
          "metadata": {}
        }
      ],
      "source": [
        "import numpy as np\n",
        "import random\n",
        "\n",
        "#class names in an array\n",
        "class_names=['T-shirt/top','Trouser','Pullover','Dress','Coat','Sandal','Shirt','Sneaker','Bag','Ankle boot']\n",
        "\n",
        "#get a random image from the testing dataset\n",
        "(instance_count,width,height)=x_test.shape    #get dataset size\n",
        "index=random.randint(0,instance_count-1)      #get an index witin dataset\n",
        "image=x_test[index]                           #get image\n",
        "pyplot.imshow(image,cmap='gray')              #show image\n",
        "\n",
        "#need to add 1 dimension to array to fit input shape\n",
        "oneImage=np.expand_dims(image,axis=0)\n",
        "print('Image shape: ',oneImage.shape)\n",
        "\n",
        "#predict image class\n",
        "[prediction]=model.predict(oneImage)\n",
        "print('Prediction output: ',prediction)\n",
        "\n",
        "classIndex=np.argmax(prediction,axis=-1)\n",
        "\n",
        "predictedClass=class_names[classIndex]\n",
        "print('Predicted class: ',predictedClass)\n",
        "print('Known class: ',class_names[y_test[index]])"
      ]
    }
  ],
  "metadata": {
    "accelerator": "GPU",
    "colab": {
      "provenance": [],
      "authorship_tag": "ABX9TyNBsTB9fI4Uf7WtAuVu9LpM",
      "include_colab_link": true
    },
    "gpuClass": "standard",
    "kernelspec": {
      "display_name": "Python 3",
      "name": "python3"
    },
    "language_info": {
      "name": "python"
    }
  },
  "nbformat": 4,
  "nbformat_minor": 0
}