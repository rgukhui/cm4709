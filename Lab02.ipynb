{
  "nbformat": 4,
  "nbformat_minor": 0,
  "metadata": {
    "colab": {
      "provenance": [],
      "authorship_tag": "ABX9TyOkOQB0Et7ssztUI0wNckOK"
    },
    "kernelspec": {
      "name": "python3",
      "display_name": "Python 3"
    },
    "language_info": {
      "name": "python"
    }
  },
  "cells": [
    {
      "cell_type": "markdown",
      "source": [
        "#CM4709 Computer Vision\n",
        "#Lab 02 Image Processing using OpenCV\n",
        "\n",
        "##Aims\n",
        "1. Explore structure of an image.\n",
        "1. Perform Affine/geometric transformation using OpenCV.\n",
        "1. Using linear filters in OpenCV.\n",
        "1. Using sharpening/Laplacian filters.\n",
        "1. Detecting edges.\n",
        "\n",
        "\n",
        "##Getting the Resources\n",
        "To experiment with OpenCV, we need some images/resources.\n",
        "1. Download the images from Moodle.\n",
        "1. Save and upload the images into your GoogleDrive. e.g. `/cm4709/Lab02/data`.\n",
        "\n",
        "##Mounting GoogleDrive in Colab\n",
        "As in Lab01, you need to mount your GoogleDrive onto your Colab runtime to access it. The following code is quite standard:"
      ],
      "metadata": {
        "id": "tbCA5fw4rnw5"
      }
    },
    {
      "cell_type": "code",
      "execution_count": null,
      "metadata": {
        "id": "LCTO-lt0rlWi"
      },
      "outputs": [],
      "source": [
        "from google.colab import drive\n",
        "drive.mount('/content/gdrive')"
      ]
    },
    {
      "cell_type": "markdown",
      "source": [
        "Your image folder will be accessible at `/content/gdrive/MyDrive/cm4709/Lab02/data`, or modify the path accordingly if you have save the images into a different folder in GoogleDrive.\n",
        "\n",
        "##Exploring an Image\n",
        "We start by loading an image using OpenCV and displaying it. As mentioned in Lab01, OpenCV's `imshow(...)` function does not work well with Colab. We will use `matplotlib` to show it instead."
      ],
      "metadata": {
        "id": "5-m88mCBtDbt"
      }
    },
    {
      "cell_type": "code",
      "source": [
        "import cv2 as cv\n",
        "import matplotlib.pyplot as plt\n",
        "\n",
        "gDriveFolder='/content/gdrive/MyDrive'        #GoogleDrive mount point\n",
        "dataFolder=gDriveFolder+'/cm4709/Lab02/data'  #*** Modify this to your data folder in GoogleDrive\n",
        "fileName=dataFolder+'/cars.jpeg'              #image file name\n",
        "\n",
        "image=cv.imread(fileName)   #load image\n",
        "plt.axis('off')             #turn off axis\n",
        "plt.imshow(image)           #plot/show image"
      ],
      "metadata": {
        "id": "l0BrHS9UxRaj"
      },
      "execution_count": null,
      "outputs": []
    },
    {
      "cell_type": "markdown",
      "source": [
        "We can also see the representation of the image as an array:"
      ],
      "metadata": {
        "id": "6UpklKFP7bEW"
      }
    },
    {
      "cell_type": "code",
      "source": [
        "import cv2 as cv\n",
        "import matplotlib.pyplot as plt\n",
        "import numpy as np\n",
        "\n",
        "gDriveFolder='/content/gdrive/MyDrive'        #GoogleDrive mount point\n",
        "dataFolder=gDriveFolder+'/cm4709/Lab02/data'  #*** Modify this to your data folder in GoogleDrive\n",
        "fileName=dataFolder+'/cars.jpeg'              #image file name\n",
        "image=cv.imread(fileName)                     #load image\n",
        "\n",
        "#convert image to array\n",
        "imageArray=np.array(image)\n",
        "\n",
        "#get array shape\n",
        "(height,width,channels)=imageArray.shape\n",
        "\n",
        "#print info.\n",
        "print('Height: ',height,' Width: ',width,' No. of channels: ',channels)"
      ],
      "metadata": {
        "id": "IszXnS-2xXKL"
      },
      "execution_count": null,
      "outputs": []
    },
    {
      "cell_type": "markdown",
      "source": [
        "##Histogram of Intensity\n",
        "Histogram analysis of an image is a common technique in photography to determine if a photo is exposed correctly. In a histogram, the X axis show the intensity of pixels in 0-255. The Y-axis is the frequency/count of pixel with that intensity value.\n",
        "\n",
        "Our image is actually a 3D array: 2D in X and Y dimension, plus 1D in the RGB channels. To get a simple histogram, we can flatten it into an 1D array, then count the number of frequencies of each intensity value (0-255). Note that in this way, all RGB channels are treated in the same way.\n",
        "Notes:\n",
        "1. See the [`numpy.ravel()` reference here](https://colab.research.google.com/drive/1lfIAiGBZo5A5i1AxWYyM7CgQusvVn-I2#scrollTo=pWVdSTXDxbf2&line=6&uniqifier=1).\n",
        "1. Also [`pyplot.hist(...)` reference](https://matplotlib.org/stable/api/_as_gen/matplotlib.pyplot.hist.html)."
      ],
      "metadata": {
        "id": "pWVdSTXDxbf2"
      }
    },
    {
      "cell_type": "code",
      "source": [
        "import cv2 as cv\n",
        "import matplotlib.pyplot as plt\n",
        "import numpy as np\n",
        "\n",
        "gDriveFolder='/content/gdrive/MyDrive'        #GoogleDrive mount point\n",
        "dataFolder=gDriveFolder+'/cm4709/Lab02/data'  #*** Modify this to your data folder in GoogleDrive\n",
        "fileName=dataFolder+'/cars.jpeg'              #image file name\n",
        "image=cv.imread(fileName)                     #load image\n",
        "\n",
        "#convert image to array\n",
        "imageArray=np.array(image)\n",
        "\n",
        "#flatten 3D array (2D in dimension + 1D in colour channel) in a 1D array\n",
        "allIntensities=imageArray.ravel()\n",
        "\n",
        "#plot history of value\n",
        "#no. of bin=256\n",
        "#value range 0-255\n",
        "plt.hist(allIntensities,256,[0,255]);\n",
        "plt.show()"
      ],
      "metadata": {
        "id": "8ZNeJl5Fyfx8"
      },
      "execution_count": null,
      "outputs": []
    },
    {
      "cell_type": "markdown",
      "source": [
        "##Histogram of RGB Channels\n",
        "Instead of putting all 3 channels into the same histogram, we can separately plot each channel.\n",
        "\n",
        "We can manipulate the array to extract each channel. Alternatively, OpenCV also has a `calcHist(...)` function. (See details of `cv.calcHist(...)` [here](https://docs.opencv.org/4.x/d1/db7/tutorial_py_histogram_begins.html))"
      ],
      "metadata": {
        "id": "ZPukiGelzY_0"
      }
    },
    {
      "cell_type": "code",
      "source": [
        "import cv2 as cv\n",
        "import matplotlib.pyplot as plt\n",
        "import numpy as np\n",
        "\n",
        "gDriveFolder='/content/gdrive/MyDrive'        #GoogleDrive mount point\n",
        "dataFolder=gDriveFolder+'/cm4709/Lab02/data'  #*** Modify this to your data folder in GoogleDrive\n",
        "fileName=dataFolder+'/cars.jpeg'              #image file name\n",
        "image=cv.imread(fileName)                     #load image\n",
        "\n",
        "#Calculate histogram for the  three channels\n",
        "#Note that OpenCV has channels in the order of BGR insetad of RGB in the image/array.\n",
        "blueHist=cv.calcHist([image],[0],None,[256],[0,255])\n",
        "greenHist=cv.calcHist([image],[1],None,[256],[0,255])\n",
        "redHist=cv.calcHist([image],[2],None,[256],[0,255])\n",
        "\n",
        "fig=plt.figure(figsize=(14,14))\n",
        "\n",
        "#original image\n",
        "ax1=fig.add_subplot(2,2,1)\n",
        "plt.imshow(image)\n",
        "\n",
        "#red\n",
        "ax2=fig.add_subplot(2,2,2)\n",
        "plt.plot(redHist)\n",
        "\n",
        "#green\n",
        "ax3=fig.add_subplot(2,2,3)\n",
        "plt.plot(greenHist)\n",
        "\n",
        "#blue\n",
        "ax4=fig.add_subplot(2,2,4)\n",
        "plt.plot(blueHist)\n",
        "\n",
        "ax1.title.set_text('Original Image')\n",
        "ax2.title.set_text('Red Channel Histogram')\n",
        "ax3.title.set_text('Green Channel Histogram')\n",
        "ax4.title.set_text('Blue Channel Histogram')\n",
        "plt.show()"
      ],
      "metadata": {
        "id": "u5D6PsEKzb98"
      },
      "execution_count": null,
      "outputs": []
    },
    {
      "cell_type": "markdown",
      "source": [
        "##Colour Spaces\n",
        "\n",
        "In this module, we will focus in using the RGB colour space, or grayscale.\n",
        "\n",
        "We have seen in Lab01 on how to convert an RGB image into grayscale using OpenCV:"
      ],
      "metadata": {
        "id": "5TeUqr4sznmk"
      }
    },
    {
      "cell_type": "code",
      "source": [
        "import cv2 as cv\n",
        "import matplotlib.pyplot as plt\n",
        "import numpy as np\n",
        "\n",
        "gDriveFolder='/content/gdrive/MyDrive'        #GoogleDrive mount point\n",
        "dataFolder=gDriveFolder+'/cm4709/Lab02/data'  #*** Modify this to your data folder in GoogleDrive\n",
        "fileName=dataFolder+'/cars.jpeg'              #image file name\n",
        "image=cv.imread(fileName)                     #load image\n",
        "\n",
        "#convert RGB (or BGR in OpenCV) into grayscale\n",
        "grayImage= cv.cvtColor(image,cv.COLOR_BGR2GRAY)\n",
        "\n",
        "#show the grayscale image\n",
        "fig,ax=plt.subplots(1, figsize=(10,6))\n",
        "ax.axis('off')\n",
        "plt.imshow(grayImage,cmap='gray')"
      ],
      "metadata": {
        "id": "Jpi7YGClzqYk"
      },
      "execution_count": null,
      "outputs": []
    },
    {
      "cell_type": "markdown",
      "source": [
        "##Geometric/Affine Transformation\n",
        "\n",
        "As discussed in the lecture, Affine transformation can be done by a 3x3 matrix multiplication:\n",
        "\n",
        "<center>\n",
        "$\\begin{pmatrix}\n",
        "x'\\\\\n",
        "y'\\\\\n",
        "1\n",
        "\\end{pmatrix}\n",
        "=\n",
        "\\begin{pmatrix}\n",
        "a_{11} & a_{12} & a_{13}\\\\\n",
        "a_{21} & a_{22} & a_{23}\\\\\n",
        "0 & 0 & 1\n",
        "\\end{pmatrix}\n",
        "\\begin{pmatrix}\n",
        "x\\\\\n",
        "y\\\\\n",
        "1\n",
        "\\end{pmatrix}$\n",
        "</center>\n",
        "\n",
        "Using different values for $a_{ij}$ allows us to do translation, rotation, scaling, and shearing operations.\n",
        "\n",
        "##Identity Transformation\n",
        "\n",
        "The simplest transformation is the Identity matrix which does not change the image at all:\n",
        "\n",
        "<center>\n",
        "$\\begin{pmatrix}\n",
        "1 & 0 & 0 \\\\\n",
        "0 & 1 & 0 \\\\\n",
        "0 & 0 & 1\n",
        "\\end{pmatrix}$\n",
        "</center>"
      ],
      "metadata": {
        "id": "Z88DummSzx--"
      }
    },
    {
      "cell_type": "code",
      "source": [
        "import cv2 as cv\n",
        "import matplotlib.pyplot as plt\n",
        "import numpy as np\n",
        "\n",
        "gDriveFolder='/content/gdrive/MyDrive'        #GoogleDrive mount point\n",
        "dataFolder=gDriveFolder+'/cm4709/Lab02/data'  #*** Modify this to your data folder in GoogleDrive\n",
        "fileName=dataFolder+'/cars.jpeg'              #image file name\n",
        "image=cv.imread(fileName)                     #load image\n",
        "\n",
        "#indentity matrix\n",
        "#image is not changed\n",
        "matrix = [[1, 0, 0],\n",
        "          [0, 1, 0]]\n",
        "\n",
        "t = np.float32(matrix)# get the sizes\n",
        "h, w = image.shape[:2]# transform\n",
        "\n",
        "#transform image\n",
        "transformedImage=cv.warpAffine(image,t,(w, h))\n",
        "fig,ax=plt.subplots(1,figsize=(10,6))\n",
        "ax.axis('off')\n",
        "plt.imshow(transformedImage)"
      ],
      "metadata": {
        "id": "ZWQjRD5Hz255"
      },
      "execution_count": null,
      "outputs": []
    },
    {
      "cell_type": "markdown",
      "source": [
        "##Translation\n",
        "\n",
        "Translation moves an image in the X-Y plate. It is done by the following matrix:\n",
        "<center>\n",
        "$\\begin{pmatrix}\n",
        "1 & 0 & d_{x} \\\\\n",
        "0 & 1 & d_{y} \\\\\n",
        "0 & 0 & 1\n",
        "\\end{pmatrix}$\n",
        "</center>\n"
      ],
      "metadata": {
        "id": "LLAat9hiz_Jl"
      }
    },
    {
      "cell_type": "code",
      "source": [
        "import cv2 as cv\n",
        "import matplotlib.pyplot as plt\n",
        "import numpy as np\n",
        "\n",
        "gDriveFolder='/content/gdrive/MyDrive'        #GoogleDrive mount point\n",
        "dataFolder=gDriveFolder+'/cm4709/Lab02/data'  #*** Modify this to your data folder in GoogleDrive\n",
        "fileName=dataFolder+'/cars.jpeg'              #image file name\n",
        "image=cv.imread(fileName)                     #load image\n",
        "\n",
        "#translation matrix\n",
        "#move X by 50 pixels, Y by -50 pixels\n",
        "matrix = [[1, 0, 50],\n",
        "          [0, 1, -50]]\n",
        "\n",
        "t = np.float32(matrix)# get the sizes\n",
        "h, w = image.shape[:2]# transform\n",
        "img = cv.warpAffine(image, t, (w, h))# plot\n",
        "fig, ax = plt.subplots(1, figsize=(10,6))\n",
        "ax.axis('off')\n",
        "plt.imshow(img)"
      ],
      "metadata": {
        "id": "a714HhWZ0CdI"
      },
      "execution_count": null,
      "outputs": []
    },
    {
      "cell_type": "markdown",
      "source": [
        "##Rotation\n",
        "\n",
        "The Rotation matrix rotates the image around the origin by an angle $\\theta$ in the clockwise direction:\n",
        "\n",
        "<center>\n",
        "$\\begin{pmatrix}\n",
        "cos(\\theta) & -sin(\\theta) & 0 \\\\\n",
        "sin(\\theta) & cos(\\theta) & 0 \\\\\n",
        "0 & 0 & 1\n",
        "\\end{pmatrix}$\n",
        "</center>\n"
      ],
      "metadata": {
        "id": "hXkXCpC00Gpt"
      }
    },
    {
      "cell_type": "code",
      "source": [
        "import cv2 as cv\n",
        "import matplotlib.pyplot as plt\n",
        "import numpy as np\n",
        "\n",
        "gDriveFolder='/content/gdrive/MyDrive'        #GoogleDrive mount point\n",
        "dataFolder=gDriveFolder+'/cm4709/Lab02/data'  #*** Modify this to your data folder in GoogleDrive\n",
        "fileName=dataFolder+'/cars.jpeg'              #image file name\n",
        "image=cv.imread(fileName)                     #load image\n",
        "\n",
        "#matrix to rotate anti-clockwise by 30 degree around origin\n",
        "theta=-30             #in degree\n",
        "theta=theta/180*np.pi #map into radian\n",
        "matrix= [[np.cos(theta), -np.sin(theta), 0],\n",
        "        [np.sin(theta), np.cos(theta), 0]]\n",
        "\n",
        "t = np.float32(matrix)# get the sizes\n",
        "h, w = image.shape[:2]# transform\n",
        "img = cv.warpAffine(image, t, (w, h))# plot\n",
        "fig, ax = plt.subplots(1, figsize=(10,6))\n",
        "ax.axis('off')\n",
        "plt.imshow(img)"
      ],
      "metadata": {
        "id": "YTz6rBVW0LVy"
      },
      "execution_count": null,
      "outputs": []
    },
    {
      "cell_type": "markdown",
      "source": [
        "##Tasks\n",
        "1. Try to rotate the image around its centre by 30 degree anti-clockwise. (Hint: You will need to translate the image centre to the origin first. Explore how you can chain multiple transformations using matrix multiplication. See `numpy.matmul(...)` [here](https://numpy.org/doc/stable/reference/generated/numpy.matmul.html).)"
      ],
      "metadata": {
        "id": "TWnxaRiJkq25"
      }
    },
    {
      "cell_type": "markdown",
      "source": [
        "##Filters\n",
        "\n",
        "Filtering requires 2 arrays: the original image, and the filter/kernel.\n",
        "At any point, in the original image, the corresponding output pixel will be the sum of products of the filter coefficients and the image pixels encompassed by the filter. Recall, that we also said that Filters have different shapes and sizes (i.e. $3 \\times 3$, $5 \\times 5$, etc..).\n",
        "\n",
        "For example, removing noise from an image using low pass filters such as mean, median and Gaussian filters. Recall, that the process is simply like sliding the filter over the image. A $3 \\times 3$ averaging filter looks like this:\n",
        "\n",
        "<center>\n",
        "$\n",
        "\\frac{1}{9}\n",
        "\\begin{pmatrix}\n",
        "1 & 1 & 1 \\\\\n",
        "1 & 1 & 1 \\\\\n",
        "1 & 1 & 1 \\\\\n",
        "\\end{pmatrix}$\n",
        "</center>\n",
        "\n",
        "\n",
        "Some OpenCV reference you may want to see:\n",
        "1. Reference of `cv.blur(...)` for doing averaging over the filter is [here](https://docs.opencv.org/4.7.0/d4/d86/group__imgproc__filter.html#ga8c45db9afe636703801b0b2e440fce37).\n",
        "1. `cv.medianBlur(...)` for doing Median blur is [here](https://docs.opencv.org/4.7.0/d4/d86/group__imgproc__filter.html#ga564869aa33e58769b4469101aac458f9).\n",
        "1. `cv.GaussianBlur(...)` for doing Gaussian blue is [here](https://docs.opencv.org/4.7.0/d4/d86/group__imgproc__filter.html#gaabe8c836e97159a9193fb0b11ac52cf1)."
      ],
      "metadata": {
        "id": "132lZS_R0ZiC"
      }
    },
    {
      "cell_type": "code",
      "source": [
        "import cv2 as cv\n",
        "import matplotlib.pyplot as plt\n",
        "import numpy as np\n",
        "\n",
        "gDriveFolder='/content/gdrive/MyDrive'        #GoogleDrive mount point\n",
        "dataFolder=gDriveFolder+'/cm4709/Lab02/data'  #*** Modify this to your data folder in GoogleDrive\n",
        "fileName=dataFolder+'/filters.jpeg'\n",
        "image=cv.imread(fileName)                     #load image\n",
        "\n",
        "fig=plt.figure(figsize=(12,12))\n",
        "ax1=fig.add_subplot(2,2,1)\n",
        "plt.imshow(image)\n",
        "\n",
        "# apply average filter\n",
        "averageF=cv.blur(image,(3,3))\n",
        "ax2=fig.add_subplot(2,2,2)\n",
        "plt.imshow(averageF)\n",
        "\n",
        "# apply median filter\n",
        "medianF=cv.medianBlur(image,3)\n",
        "ax3=fig.add_subplot(2,2,3)\n",
        "plt.imshow(medianF)\n",
        "\n",
        "# apply Gaussian Filter\n",
        "gaussF=cv.GaussianBlur(image, (3,3),0)\n",
        "ax4=fig.add_subplot(2,2,4)\n",
        "plt.imshow(gaussF)\n",
        "\n",
        "ax1.title.set_text('Original Image (Noise)')\n",
        "ax2.title.set_text('Average Filter')\n",
        "ax3.title.set_text('Median Filter')\n",
        "ax4.title.set_text('Gaussian Filter')\n",
        "plt.show()"
      ],
      "metadata": {
        "id": "Zeew_pev0cpN"
      },
      "execution_count": null,
      "outputs": []
    },
    {
      "cell_type": "markdown",
      "source": [
        "##Tasks\n",
        "\n",
        "1. Try different kernel sizes on the Mean/Average filter and see the effect. e.g. $3 \\times 3$, $5 \\times 5$, $15 \\times 15$, etc."
      ],
      "metadata": {
        "id": "FBbDy8XWcghy"
      }
    },
    {
      "cell_type": "markdown",
      "source": [
        "##Image Gradient and Edge Detection\n",
        "\n",
        "The image gradient calculates the change in pixel intensity in both directions (horizontal and vertical) by performing convolution operation on the image with a kernel (filter). Often the kernel values are chosen so that two rows or columns have opposite signs. As discussed in the class, this could be achieved by various kernels.\n",
        "\n",
        "Sobel filter horizontal kernel:\n",
        "<center>\n",
        "$\\begin{pmatrix}\n",
        "-1 & -2 & -1 \\\\\n",
        "0 & 0 & 0 \\\\\n",
        "1 & 2 & 1 \\\\\n",
        "\\end{pmatrix}$\n",
        "</center>\n",
        "\n",
        "Sobel filter vertical kernel:\n",
        "<center>\n",
        "$\\begin{pmatrix}\n",
        "-1 & 0 & 1 \\\\\n",
        "-2 & 0 & 2 \\\\\n",
        "-1 & 0 & 1 \\\\\n",
        "\\end{pmatrix}$\n",
        "</center>\n",
        "\n",
        "Laplacian filter  kernel:\n",
        "<center>\n",
        "$\\begin{pmatrix}\n",
        "0 & 1 & 0 \\\\\n",
        "1 & -4 & 1 \\\\\n",
        "0 & 1 & 0 \\\\\n",
        "\\end{pmatrix}$\n",
        "</center>\n",
        "\n",
        "1. Reference of `cv.Sobel(...)` is [here](https://docs.opencv.org/4.7.0/d4/d86/group__imgproc__filter.html#gacea54f142e81b6758cb6f375ce782c8d).\n",
        "1. Reference of `cv.Laplacian(...)` is [here](https://docs.opencv.org/4.7.0/d4/d86/group__imgproc__filter.html#gad78703e4c8fe703d479c1860d76429e6)."
      ],
      "metadata": {
        "id": "C76Nb88y0zpd"
      }
    },
    {
      "cell_type": "code",
      "source": [
        "import cv2 as cv\n",
        "import matplotlib.pyplot as plt\n",
        "import numpy as np\n",
        "\n",
        "#load image and convert to grayscale\n",
        "#\n",
        "gDriveFolder='/content/gdrive/MyDrive'        #GoogleDrive mount point\n",
        "dataFolder=gDriveFolder+'/cm4709/Lab02/data'  #*** Modify this to your data folder in GoogleDrive\n",
        "fileName=dataFolder+'/lena.png'\n",
        "image=cv.imread(fileName)\n",
        "grayImage=cv.cvtColor(image,cv.COLOR_BGR2GRAY)\n",
        "\n",
        "#show original image\n",
        "fig = plt.figure(figsize=(12,12))\n",
        "ax1 = fig.add_subplot(2,2,1)\n",
        "plt.imshow(grayImage,cmap='gray')\n",
        "\n",
        "#Sobel filter in the x direction\n",
        "sobelx = cv.Sobel(grayImage,cv.CV_64F,1,0,ksize=5)\n",
        "ax2 = fig.add_subplot(2,2,2)\n",
        "plt.imshow(sobelx,cmap='gray')\n",
        "\n",
        "#Sobel filter in the y direction\n",
        "sobely = cv.Sobel(grayImage,cv.CV_64F,0,1,ksize=5)\n",
        "ax3 = fig.add_subplot(2,2,3)\n",
        "plt.imshow(sobely,cmap='gray')\n",
        "\n",
        "#Laplacian filter\n",
        "laplacian = cv.Laplacian(grayImage,cv.CV_64F)\n",
        "ax4 = fig.add_subplot(2,2,4)\n",
        "plt.imshow(laplacian,cmap='gray')\n",
        "\n",
        "ax1.title.set_text('Original Image')\n",
        "ax2.title.set_text('Sobel (X direction)')\n",
        "ax3.title.set_text('Sobel (Y direction)')\n",
        "ax4.title.set_text('Laplacian')"
      ],
      "metadata": {
        "id": "2XnKhIUU05eC"
      },
      "execution_count": null,
      "outputs": []
    },
    {
      "cell_type": "markdown",
      "source": [
        "Another common edge detection algorithm is the Canny edge algorithm. It is already available in OpenCV. Reference of `cv.Canny(...)` is [here](https://docs.opencv.org/4.7.0/dd/d1a/group__imgproc__feature.html#ga04723e007ed888ddf11d9ba04e2232de)."
      ],
      "metadata": {
        "id": "sfSLsn5PYiSA"
      }
    },
    {
      "cell_type": "code",
      "source": [
        "import cv2 as cv\n",
        "import matplotlib.pyplot as plt\n",
        "import numpy as np\n",
        "\n",
        "#load image and convert to grayscale\n",
        "#\n",
        "gDriveFolder='/content/gdrive/MyDrive'        #GoogleDrive mount point\n",
        "dataFolder=gDriveFolder+'/cm4709/Lab02/data'  #*** Modify this to your data folder in GoogleDrive\n",
        "fileName=dataFolder+'/lena.png'\n",
        "image=cv.imread(fileName)\n",
        "grayImage=cv.cvtColor(image,cv.COLOR_BGR2GRAY)\n",
        "\n",
        "fig = plt.figure(figsize=(12,12))\n",
        "ax1 = fig.add_subplot(2,2,1)\n",
        "plt.imshow(grayImage,cmap='gray')\n",
        "\n",
        "#Canny edge detection\n",
        "cannyEdge = cv.Canny(grayImage,100,200)\n",
        "ax2 = fig.add_subplot(2,2,2)\n",
        "plt.imshow(cannyEdge,cmap='gray')"
      ],
      "metadata": {
        "id": "WBef0CYf1f-i"
      },
      "execution_count": null,
      "outputs": []
    },
    {
      "cell_type": "markdown",
      "source": [
        "#Notes:\n",
        "Image gradients played a central role in traditional computer vision methods, where the gradients are calculated in the x and y directions.\n",
        "Using the gradients, important features can be extracted e.g. edges, corner points, etc. Edges can be detected by calculating the gradient in the X and Y directions.\n"
      ],
      "metadata": {
        "id": "W2r9vV_sTgwi"
      }
    }
  ]
}