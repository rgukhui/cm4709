{
  "cells": [
    {
      "cell_type": "markdown",
      "source": [
        "#CM4709 Computer Vision\n",
        "#Lab 07 Image Segmentation\n",
        "\n",
        "##Aims\n",
        ". Use Mask R-CNN to perform image segmentation."
      ],
      "metadata": {
        "id": "9nISn72KOU74"
      }
    },
    {
      "cell_type": "markdown",
      "source": [
        "##Mounting GoogleDrive to Colab Runtime\n",
        "\n",
        "As usual, you will need some testing images. It is faster to upload them to GoogleDrive and then mount it to your Colab runtime.\n",
        "\n",
        "In the following code, I use the path `/content/drive` as the mounting point as Colab also has a convenient button mounting to this path."
      ],
      "metadata": {
        "id": "O0u_qhk4PGtQ"
      }
    },
    {
      "cell_type": "code",
      "execution_count": null,
      "metadata": {
        "id": "lfaHOhboI6sh"
      },
      "outputs": [],
      "source": [
        "from google.colab import drive\n",
        "drive.mount('/content/drive')"
      ]
    },
    {
      "cell_type": "markdown",
      "source": [
        "##Testing Images\n",
        "\n",
        "You are advised to organise your files in GoogleDrive. e.g. Create a `Lab07` folder in GoogleDrive to store the notebook file of Lab 07, and a `Lab07/data` folder for the images.\n",
        "\n",
        "1. Download the testing images in Moodle. Optionally, use your own testing images.\n",
        "1. Upload testing images to your GoogleDrive space.\n",
        "\n",
        "The following code shows a testing image using OpenCV.\n",
        "* Note: Modify the filename and image path accordingly.\n"
      ],
      "metadata": {
        "id": "oJHz3w89Qy32"
      }
    },
    {
      "cell_type": "code",
      "source": [
        "import cv2 as cv\n",
        "import matplotlib.pyplot as plt\n",
        "\n",
        "#image filename and path\n",
        "#\n",
        "filename='test.jpg'\n",
        "imagePath='/content/drive/MyDrive/cm4709/Lab07/data'\n",
        "imageFile=imagePath+'/'+filename\n",
        "\n",
        "#show image\n",
        "#\n",
        "img=cv.imread(imageFile)\n",
        "plt.figure(figsize=(10,10))\n",
        "plt.imshow(cv.cvtColor(img, cv.COLOR_BGR2RGB))"
      ],
      "metadata": {
        "id": "euSaL_1Xy58B"
      },
      "execution_count": null,
      "outputs": []
    },
    {
      "cell_type": "markdown",
      "source": [
        "##Install PixelLib\n",
        "\n",
        "[PixelLib](https://github.com/ayoolaolafenwa/PixelLib) provides some handy libraries to do image segmentation. Pixellib uses Tensorflow.\n",
        "\n",
        "The following shell commands install Pixellib and also Tensorflow version 2.5.0 which works with PixelLib.\n",
        "\n",
        "Note:\n",
        "* The current version of Tensorflow in Colan is 2.12.0. This version does not work with PixelLib.\n",
        "* After trying many times, I found that Tensorflow 2.5.0 still works. Online resources said that PixelLib works with Tensorflow 2.4.0 but unluckily this version is not available in Colab anymore.\n"
      ],
      "metadata": {
        "id": "u6SiNOE3h0BL"
      }
    },
    {
      "cell_type": "code",
      "execution_count": null,
      "metadata": {
        "id": "2rba89OreVXe"
      },
      "outputs": [],
      "source": [
        "!pip install pixellib --upgrade\n",
        "!pip install tensorflow==2.5.0\n"
      ]
    },
    {
      "cell_type": "markdown",
      "source": [
        "##The Pre-trained Model/Weights File\n",
        "\n",
        "To run Mask R-CNN, you need the pre-trained modle's weights file.\n",
        "Mask R-CNN has been trained with the COCO dataset.\n",
        "\n",
        "The following shell command downloads the weights file into the default folder of your Colab runtime:"
      ],
      "metadata": {
        "id": "2QVFe9xjjBBr"
      }
    },
    {
      "cell_type": "code",
      "execution_count": null,
      "metadata": {
        "id": "V2tJ2OpSDWjy"
      },
      "outputs": [],
      "source": [
        "!wget https://github.com/matterport/Mask_RCNN/releases/download/v2.0/mask_rcnn_coco.h5\n"
      ]
    },
    {
      "cell_type": "markdown",
      "source": [
        "Every time your Colab runtime is re-connected, files stored inside will be gone.\n",
        "Alternatively, you may want to download the weights file into your GoogleDrive space so that you don't need to re-download everytime.\n",
        "If you choose to do this:\n",
        "\n",
        "1. Download the weights file here: [https://github.com/matterport/Mask_RCNN/releases/download/v2.0/mask_rcnn_coco.h5](https://github.com/matterport/Mask_RCNN/releases/download/v2.0/mask_rcnn_coco.h5)\n",
        "1. Upload it to your GoogleDrive. e.g. in the `Lab07/data` folder.\n",
        "1. In later references to the weights file, modify the path accordingly.\n"
      ],
      "metadata": {
        "id": "BQpYvA6RpiKI"
      }
    },
    {
      "cell_type": "markdown",
      "source": [
        "##Creating the Model\n",
        "\n",
        "You are now ready to create a Mask R-CNN model to do image segmentation.\n",
        "In the following code:\n",
        "* Modify the path the image if needed.\n",
        "* Modify the path to the weights file if needed.\n",
        "* The function `segmentImage(...)` takes a parameter `output_image_name`. The image segmentation output will be written to this file. Modify this if you need to."
      ],
      "metadata": {
        "id": "i2nq3yBtqc3O"
      }
    },
    {
      "cell_type": "code",
      "execution_count": null,
      "metadata": {
        "id": "c5JU1FehBZz-"
      },
      "outputs": [],
      "source": [
        "import pixellib\n",
        "from pixellib.instance import instance_segmentation\n",
        "\n",
        "#image filename and path\n",
        "#\n",
        "filename='test.jpg'\n",
        "imagePath='/content/drive/MyDrive/cm4709/Lab07/data'\n",
        "imageFile=imagePath+'/'+filename\n",
        "\n",
        "#COCO weights file\n",
        "#\n",
        "weightFile=imagePath+'/mask_rcnn_coco.h5'\n",
        "\n",
        "#output of segementation\n",
        "#\n",
        "outputFilename='output.jpg'\n",
        "outputFile=imagePath+'/'+outputFilename\n",
        "\n",
        "segment_image = instance_segmentation()\n",
        "segment_image.load_model(weightFile)\n",
        "segment_image.segmentImage(imageFile, output_image_name=outputFile)"
      ]
    },
    {
      "cell_type": "markdown",
      "source": [
        "##Seeing the Segmentation Result\n",
        "\n",
        "Mask R-CNN outputs the result to the image file you specified.\n",
        "The following OpenCV code simply displays the output:"
      ],
      "metadata": {
        "id": "SdHEvjNG1nm2"
      }
    },
    {
      "cell_type": "code",
      "execution_count": null,
      "metadata": {
        "id": "7r1QWBlxDe0S"
      },
      "outputs": [],
      "source": [
        "import cv2 as cv\n",
        "import matplotlib.pyplot as plt\n",
        "\n",
        "#output of segementation\n",
        "#\n",
        "outputFilename='output.jpg'\n",
        "imagePath='/content/drive/MyDrive/cm4709/Lab07/data'\n",
        "outputFile=imagePath+'/'+outputFilename\n",
        "\n",
        "#show segementation result\n",
        "#\n",
        "img=cv.imread(outputFile)\n",
        "plt.figure(figsize=(10,10))\n",
        "plt.imshow(cv.cvtColor(img, cv.COLOR_BGR2RGB))\n"
      ]
    },
    {
      "cell_type": "markdown",
      "source": [
        "##Other Functions\n",
        "\n",
        "[PixelLib](https://pixellib.readthedocs.io/en/latest/) has many handy functions built-in.\n",
        "You can see the documentation [here](https://pixellib.readthedocs.io/en/latest/Image_instance.html).\n",
        "For example, you can show the bounding boxes of the detected segments:\n"
      ],
      "metadata": {
        "id": "6dPYJbO_4BLN"
      }
    },
    {
      "cell_type": "code",
      "execution_count": null,
      "metadata": {
        "id": "sVezptU3EHRx"
      },
      "outputs": [],
      "source": [
        "import cv2 as cv\n",
        "import matplotlib.pyplot as plt\n",
        "import pixellib\n",
        "from pixellib.instance import instance_segmentation\n",
        "\n",
        "#image filename and path\n",
        "#\n",
        "filename='test2.jpg'\n",
        "imagePath='/content/drive/MyDrive/cm4709/Lab07/data'\n",
        "imageFile=imagePath+'/'+filename\n",
        "\n",
        "#COCO weights file\n",
        "#\n",
        "weightFile=imagePath+'/mask_rcnn_coco.h5'\n",
        "\n",
        "#output of segementation\n",
        "#\n",
        "outputFilename='output.jpg'\n",
        "outputFile=imagePath+'/'+outputFilename\n",
        "\n",
        "segment_image = instance_segmentation()\n",
        "segment_image.load_model(weightFile)\n",
        "segment_image.segmentImage(imageFile, output_image_name=outputFile,show_bboxes=True)\n",
        "\n",
        "#show segementation result\n",
        "#\n",
        "img=cv.imread(outputFile)\n",
        "plt.figure(figsize=(10,10))\n",
        "plt.imshow(cv.cvtColor(img, cv.COLOR_BGR2RGB))\n"
      ]
    },
    {
      "cell_type": "markdown",
      "source": [
        "You can also extract and save the detected segments:"
      ],
      "metadata": {
        "id": "OhK0HyCa5hm0"
      }
    },
    {
      "cell_type": "code",
      "source": [
        "import cv2 as cv\n",
        "import matplotlib.pyplot as plt\n",
        "import pixellib\n",
        "from pixellib.instance import instance_segmentation\n",
        "\n",
        "#image filename and path\n",
        "#\n",
        "filename='test2.jpg'\n",
        "imagePath='/content/drive/MyDrive/cm4709/Lab07/data'\n",
        "imageFile=imagePath+'/'+filename\n",
        "\n",
        "#COCO weights file\n",
        "#\n",
        "weightFile=imagePath+'/mask_rcnn_coco.h5'\n",
        "\n",
        "#output of segementation\n",
        "#\n",
        "outputFilename='output.jpg'\n",
        "outputFile=imagePath+'/'+outputFilename\n",
        "\n",
        "segment_image = instance_segmentation()\n",
        "segment_image.load_model(weightFile)\n",
        "segment_image.segmentImage(imageFile, output_image_name=outputFile,extract_segmented_objects=True,save_extracted_objects=True)\n"
      ],
      "metadata": {
        "id": "0rFnBp935m-X"
      },
      "execution_count": null,
      "outputs": []
    },
    {
      "cell_type": "markdown",
      "source": [
        "Extracted segments are saved to the home of your Colab runtime with filenames `segmented_object_...`.\n",
        "The following code shows all of them:"
      ],
      "metadata": {
        "id": "f0jY_8736IxL"
      }
    },
    {
      "cell_type": "code",
      "source": [
        "import os\n",
        "import fnmatch\n",
        "\n",
        "segmentPath='.'\n",
        "pattern='segmented_object_*.jpg'\n",
        "segmentFiles=[]\n",
        "\n",
        "#collect segment files full paths\n",
        "#\n",
        "allFiles=os.listdir(segmentPath)\n",
        "for file in allFiles:\n",
        "  if fnmatch.fnmatch(file,pattern):\n",
        "    segmentFiles.append(segmentPath+'/'+file)\n",
        "\n",
        "total=len(segmentFiles) #no. of files\n",
        "print('No. of files: ',total)\n",
        "\n",
        "colCount=10\n",
        "rowCount=int(total/colCount)+1\n",
        "plt.figure(figsize=(colCount*1.5,rowCount*1.5))\n",
        "i=1\n",
        "\n",
        "for file in segmentFiles:\n",
        "  img=cv.imread(file)\n",
        "  cvtImg=cv.cvtColor(img, cv.COLOR_BGR2RGB)\n",
        "  plt.subplot(rowCount,colCount,i)\n",
        "  plt.imshow(cvtImg)\n",
        "  i=i+1  "
      ],
      "metadata": {
        "id": "_u2EV3xG6WjF"
      },
      "execution_count": null,
      "outputs": []
    },
    {
      "cell_type": "markdown",
      "source": [
        "If you need to remove all `segemented_object_*.jpg` files between different runs, the following code will be handy:"
      ],
      "metadata": {
        "id": "7OdVWmKABOr_"
      }
    },
    {
      "cell_type": "code",
      "source": [
        "#remove all extracted segment files\n",
        "#\n",
        "import os\n",
        "import fnmatch\n",
        "\n",
        "segmentPath='.'\n",
        "pattern='segmented_object_*.jpg'\n",
        "\n",
        "#collect segment files full paths\n",
        "#\n",
        "allFiles=os.listdir(segmentPath)\n",
        "for file in allFiles:\n",
        "  if fnmatch.fnmatch(file,pattern):\n",
        "    os.remove(segmentPath+'/'+file)  "
      ],
      "metadata": {
        "id": "lv4L2qazAatg"
      },
      "execution_count": 44,
      "outputs": []
    }
  ],
  "metadata": {
    "colab": {
      "provenance": [],
      "mount_file_id": "1CWFk68QbTWoElTOhhhA9jo5aqRFFENG_",
      "authorship_tag": "ABX9TyOaBJ2HUHJs4oWWU5SdoMgu"
    },
    "gpuClass": "standard",
    "kernelspec": {
      "display_name": "Python 3",
      "name": "python3"
    },
    "language_info": {
      "name": "python"
    },
    "accelerator": "GPU"
  },
  "nbformat": 4,
  "nbformat_minor": 0
}