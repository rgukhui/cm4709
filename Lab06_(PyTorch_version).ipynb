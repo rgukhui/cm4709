{
  "nbformat": 4,
  "nbformat_minor": 0,
  "metadata": {
    "colab": {
      "provenance": [],
      "authorship_tag": "ABX9TyOikFOy2rvJBXWV2O4/eox+",
      "include_colab_link": true
    },
    "kernelspec": {
      "name": "python3",
      "display_name": "Python 3"
    },
    "language_info": {
      "name": "python"
    }
  },
  "cells": [
    {
      "cell_type": "markdown",
      "metadata": {
        "id": "view-in-github",
        "colab_type": "text"
      },
      "source": [
        "<a href=\"https://colab.research.google.com/github/rgukhui/cm4709/blob/main/Lab06_(PyTorch_version).ipynb\" target=\"_parent\"><img src=\"https://colab.research.google.com/assets/colab-badge.svg\" alt=\"Open In Colab\"/></a>"
      ]
    },
    {
      "cell_type": "markdown",
      "source": [
        "#CM4709 Computer Vision\n",
        "#Lab 06 Object Detection using YOLO\n",
        "\n",
        "##Aims\n",
        "1. Use YOLO for object detection.\n",
        "\n",
        "##Uploading Testing Images\n",
        "We will need some testing images.\n",
        "There are a few in Moodle. You can also add some of your own.\n",
        "Upload them to a folder in your GoogleDrive. e.g. `cm4709/Lab06/data`."
      ],
      "metadata": {
        "id": "2RFdDzWyzWi0"
      }
    },
    {
      "cell_type": "markdown",
      "source": [
        "##Mounting GoogleDrive\n",
        "\n",
        "It is faster and easier uploading to GoogleDrive than to a Colab runtime.\n",
        "The following standard code connects your GoogleDrive space to Colab.\n",
        "After this, your image folder should be visible in your Colab runtime."
      ],
      "metadata": {
        "id": "M5t_enwlzwEY"
      }
    },
    {
      "cell_type": "code",
      "source": [
        "from google.colab import drive\n",
        "drive.mount('/content/gdrive')"
      ],
      "metadata": {
        "id": "KuoceQ38iJqN",
        "colab": {
          "base_uri": "https://localhost:8080/"
        },
        "outputId": "d15446d6-d11b-45f3-e254-7142447a3c32"
      },
      "execution_count": 1,
      "outputs": [
        {
          "output_type": "stream",
          "name": "stdout",
          "text": [
            "Mounted at /content/gdrive\n"
          ]
        }
      ]
    },
    {
      "cell_type": "markdown",
      "source": [
        "##Install YOLO v8\n",
        "\n",
        "There are a few implementation of YOLO:\n",
        "1. [Darknet](https://pjreddie.com/darknet/): This is the official release and is the fastest.\n",
        "1. [Darkflow](https://github.com/thtrieu/darkflow): This is the Tensorflow version of Darknet.\n",
        "1. [OpenCV](https://opencv-tutorial.readthedocs.io/en/latest/yolo/yolo.html): This is the OpenCV Implementation of YOLO. As YOLO is a CNN, you can also export a trained YOLO network to a ONNX file and run it in OpenCV C++. This is useful if you want to deploy a trained YOLO network to another platform.\n",
        "1. [PyTorch](https://docs.ultralytics.com/): Ultralytics has released multiple versions of YOLO in Python. If you want the most up-to-date version, this will be the one to use."
      ],
      "metadata": {
        "id": "n2fUFnUXz4kz"
      }
    },
    {
      "cell_type": "code",
      "source": [
        "#\n",
        "#install YOLO v8\n",
        "#\n",
        "!pip install ultralytics\n",
        "\n",
        "import ultralytics\n",
        "ultralytics.checks()"
      ],
      "metadata": {
        "id": "LDtWaF7mjDZn"
      },
      "execution_count": null,
      "outputs": []
    },
    {
      "cell_type": "markdown",
      "source": [
        "##Object Detection Using Command Line\n",
        "\n",
        "The following command line loads the pretrained COCO `yolov8s.pt` weights and detects objects in an image.\n",
        "Output will be saved in the folder `runs/detect/predict`."
      ],
      "metadata": {
        "id": "iWd3Pg_qz2iN"
      }
    },
    {
      "cell_type": "code",
      "source": [
        "!yolo predict model=yolov8s.pt source='/content/gdrive/MyDrive/cm4709/Lab06/data/mumbai-traffic.jpg'"
      ],
      "metadata": {
        "id": "WavaBOUZ1Jkw"
      },
      "execution_count": null,
      "outputs": []
    },
    {
      "cell_type": "markdown",
      "source": [
        "##Seeing the COCO Classes\n",
        "\n",
        "The YOLO weights we loaded are trained with the [COCO dataset](https://cocodataset.org/). The COCO class names are in the result of detection.\n",
        "The following code does object detecton on a testing image and print out the number of classes and the class labels.\n",
        "\n",
        "The result documentation is [here](https://docs.ultralytics.com/modes/predict/#working-with-results). Note the followings:\n",
        "1. We are feeding in 1 image in our example. Thus we are taking the first result.\n",
        "1. The class names are in the `names` property of the result."
      ],
      "metadata": {
        "id": "iFHKIM-pLXEE"
      }
    },
    {
      "cell_type": "code",
      "source": [
        "import cv2 as cv\n",
        "import numpy as np\n",
        "from matplotlib import pyplot as plt\n",
        "from ultralytics import YOLO\n",
        "\n",
        "\n",
        "#our 3 testing images\n",
        "image1='/content/gdrive/MyDrive/cm4709/Lab06/data/mumbai-traffic.jpg'\n",
        "image2='/content/gdrive/MyDrive/cm4709/Lab06/data/test.jpg'\n",
        "image3='/content/gdrive/MyDrive/cm4709/Lab06/data/bluetit.png'\n",
        "image=[image1,image2,image3]\n",
        "\n",
        "model = YOLO('yolov8s.pt')  # load a pretrained YOLOv8s detection model\n",
        "results=model(image)  # predict on an image\n",
        "result=results[0]     #get 1st result\n",
        "classNames=result.names #get class names\n",
        "\n",
        "print('No. of classes: ',len(classNames))\n",
        "print(classNames)"
      ],
      "metadata": {
        "id": "OxVtLvVTMDCN"
      },
      "execution_count": null,
      "outputs": []
    },
    {
      "cell_type": "markdown",
      "source": [
        "##Understanding the Detection Result\n",
        "\n",
        "The Ultralytics library's detection function accepts multiple images in a list, and the results are returned as another list. Each result contains information of the class confidence score and bounding boxes. You can find documentation of the result [here](https://docs.ultralytics.com/modes/predict/).\n",
        "\n",
        "The following code examines structure of the detection result."
      ],
      "metadata": {
        "id": "aFR27YrXokHS"
      }
    },
    {
      "cell_type": "code",
      "source": [
        "#Note: variable \"results\" is instantiated above\n",
        "\n",
        "print('No. of results: ',len(results))\n",
        "\n",
        "#go through all results\n",
        "for result in results:\n",
        "  boxes=result.boxes                    #get all boxes in this result\n",
        "  print('  No. of boxes: ',len(boxes))\n",
        "  for box in result.boxes:              #go through all boxes\n",
        "    classIndex=box.cls                  #get class index\n",
        "    confidence=box.conf                 #get confidence\n",
        "    xywh=box.xywh                       #get bounding box\n",
        "    print('    class index: ',classIndex)\n",
        "    print('    confidence: ',confidence)\n",
        "    print('    xywh: ',xywh)"
      ],
      "metadata": {
        "id": "C52WsnnXMksC"
      },
      "execution_count": null,
      "outputs": []
    },
    {
      "cell_type": "markdown",
      "source": [
        "##Processing the Result\n",
        "\n",
        "The results are \"tensors\".\n",
        "The following code extract the values and store them into 2 lists: 1 for the images, and 1 for the boxes detected."
      ],
      "metadata": {
        "id": "KQ0uvfPHH91Y"
      }
    },
    {
      "cell_type": "code",
      "source": [
        "#minimum confidence required\n",
        "confidenceThreshold=0.5\n",
        "\n",
        "#lists to collect results\n",
        "originalImages=[]\n",
        "detectionResults=[]\n",
        "\n",
        "for result in results:\n",
        "  img=result.orig_img       #get original image\n",
        "  originalImages.append(img)  #append image to list\n",
        "  boxResults=[]\n",
        "  for box in result.boxes:  #go through all boxes\n",
        "    #\n",
        "    #compute values from tensors\n",
        "    #\n",
        "    [classIndex]=box.cls.cpu().numpy()    #get class index of box\n",
        "    classIndex=int(classIndex)            #convert to int\n",
        "    label=classNames[classIndex]          #get class name as label\n",
        "    [confidence]=box.conf.cpu().numpy()   #get box confidence\n",
        "    label=label+' '+str(confidence)       #append confidence to label\n",
        "    [[x,y,w,h]]=box.xywh.cpu().numpy()    #get box centre, width and height\n",
        "    topx=int(x-w/2)       #compute box top left corner\n",
        "    topy=int(y-h/2)\n",
        "    bottomx=int(topx+w)   #compute box bottom right corner\n",
        "    bottomy=int(topy+h)\n",
        "    #\n",
        "    #append box result to list\n",
        "    #\n",
        "    if confidence>=confidenceThreshold:\n",
        "      boxResults.append((classIndex,confidence,label,(topx,topy,bottomx,bottomy)))\n",
        "  detectionResults.append(boxResults)\n",
        "\n",
        "#\n",
        "#print out computed results\n",
        "#\n",
        "for boxResults in detectionResults:\n",
        "  print('Image detection result:')\n",
        "  boxIndex=0\n",
        "  for boxResult in boxResults:\n",
        "    (classIndex,confidence,label,(topx,topy,bottomx,bottomy))=boxResult\n",
        "    print('  box no.: ',boxIndex)\n",
        "    print('    class index: ',classIndex)\n",
        "    print('    confidence: ',confidence)\n",
        "    print('    label: ',label)\n",
        "    print('    box: ',(topx,topy,bottomx,bottomy))\n",
        "    boxIndex=boxIndex+1"
      ],
      "metadata": {
        "id": "T0ODZubcQdmd"
      },
      "execution_count": null,
      "outputs": []
    },
    {
      "cell_type": "markdown",
      "source": [
        "##Visualising the Results\n",
        "\n",
        "We can now visualise the bounding boxes."
      ],
      "metadata": {
        "id": "GpUSLjpgKATu"
      }
    },
    {
      "cell_type": "code",
      "source": [
        "#font to be used in label\n",
        "font = cv.FONT_HERSHEY_SIMPLEX\n",
        "\n",
        "#generate random colours for the classes\n",
        "colours = np.random.uniform(0, 255, size=(len(classNames), 3))\n",
        "\n",
        "#\n",
        "#go through all images\n",
        "#\n",
        "for index in range(0,len(originalImages)):\n",
        "  image=originalImages[index]         #take out the image\n",
        "  boxResults=detectionResults[index]  #get all box results of this image\n",
        "  for boxResult in boxResults:        #go through all boxes in this result\n",
        "    (classIndex,confidence,label,(topx,topy,bottomx,bottomy))=boxResult\n",
        "    colour = colours[classIndex]                 #get colour\n",
        "    cv.rectangle(image, (topx,topy), (bottomx,bottomy), colour, 2)  #draw bounding box\n",
        "    cv.putText(image, label, (topx,topy -10), font, 0.5, colour)    #draw class label\n",
        "  #\n",
        "  #show image\n",
        "  #\n",
        "  plt.figure(figsize=(10,10))\n",
        "  plt.imshow(cv.cvtColor(image, cv.COLOR_BGR2RGB))\n"
      ],
      "metadata": {
        "id": "y73sN2FlXlhT"
      },
      "execution_count": null,
      "outputs": []
    }
  ]
}