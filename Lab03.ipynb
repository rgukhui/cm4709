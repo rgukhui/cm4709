{
  "nbformat": 4,
  "nbformat_minor": 0,
  "metadata": {
    "colab": {
      "provenance": [],
      "authorship_tag": "ABX9TyPiwdtyVOO0lxNMCajHzFX4"
    },
    "kernelspec": {
      "name": "python3",
      "display_name": "Python 3"
    },
    "language_info": {
      "name": "python"
    },
    "accelerator": "GPU",
    "gpuClass": "standard"
  },
  "cells": [
    {
      "cell_type": "markdown",
      "source": [
        "#CM4709 Computer Vision\n",
        "#Lab 03 Neural Network\n",
        "\n",
        "##Aims\n",
        "1. Use the Keras library to build a neural network.\n",
        "1. Train a neural network to classify images in a dataset.\n",
        "\n",
        "##The Keras Library\n",
        "Keras is a Deep Learning API built on top of Tensorflow.\n",
        "It allows users to quickly create, train, and validate Deep Learning models using neural network.\n",
        "You can find the Keras library and its documentation at [https://keras.io/](https://keras.io/).\n",
        "Both Keras and Tensorflow are readily available in Colab.\n",
        "\n",
        "##The Dataset\n",
        "\n",
        "We will use the [fashion MNIST dataset](https://www.kaggle.com/datasets/zalando-research/fashionmnist) to run through the implementation of a neural networks using Keras.\n",
        "This dataset has 70,000 gray scale image. Each of these images is $28 \\times 28$ pixel in size. There are 10 different classes in the dataset.\n",
        "\n",
        "##Loading the Dataset\n",
        "Fortunately, the fashion MNIST data is readily available in Keras. ( Documentation is [here](https://keras.io/api/datasets/fashion_mnist/).)\n",
        "Loading the dataset is the simple task of importing the Keras library and calling a function.\n",
        "\n",
        "The [`load_data()` function](https://keras.io/api/datasets/fashion_mnist/#loaddata-function) returns a tuple in the format:\n",
        "\n",
        "`(x_train,y_train),(x_test,y_test)`\n",
        "\n",
        "where:\n",
        "* `x_train`: are numpy array of grayscale images for training\n",
        "* `y_train`: are the labels of the training dataset\n",
        "* `x_test`: are the images for testing\n",
        "* `y_test`: are the labels for testing\n",
        "\n",
        "Simply speaking, the `x_...` datasets are images.\n",
        "The `y_...` datasets are class labels.\n",
        "Class labels are in the range 0-9. (Reference is [here](https://keras.io/api/datasets/fashion_mnist/).)\n",
        "\n",
        "The following code loads the dataset and prints out some information:"
      ],
      "metadata": {
        "id": "1dKSC_pRqAme"
      }
    },
    {
      "cell_type": "code",
      "source": [
        "#import libraries\n",
        "import tensorflow as tf\n",
        "from tensorflow import keras\n",
        "\n",
        "#load dataset from Keras\n",
        "(x_train_full,y_train_full),(x_test,y_test)=keras.datasets.fashion_mnist.load_data()\n",
        "\n",
        "print('Full training dataset (images):',x_train_full.shape)\n",
        "print('Full training dataset (labels):',y_train_full.shape)\n",
        "print('Testing dataset (images):',x_test.shape)\n",
        "print('Testing dataset (labels):',y_test.shape)\n"
      ],
      "metadata": {
        "colab": {
          "base_uri": "https://localhost:8080/"
        },
        "id": "MGbyIS0Y2FXy",
        "outputId": "9702df18-3c0b-4cc5-8118-e809db4065a3"
      },
      "execution_count": 16,
      "outputs": [
        {
          "output_type": "stream",
          "name": "stdout",
          "text": [
            "Full training dataset (images): (60000, 28, 28)\n",
            "Full training dataset (labels): (60000,)\n",
            "Testing dataset (images): (10000, 28, 28)\n",
            "Testing dataset (labels): (10000,)\n"
          ]
        }
      ]
    },
    {
      "cell_type": "markdown",
      "source": [
        "##Questions:\n",
        "1. How do you interpret the \"shape\" of the numpy arrays reported?\n",
        "1. How many instances are there in the training and testing datasets respectively?"
      ],
      "metadata": {
        "id": "X66o9xb-2gU7"
      }
    },
    {
      "cell_type": "markdown",
      "source": [
        "##Creating a Validation Dataset\n",
        "\n",
        "It is a good habit to create a validation dataset for the purpose of making sure that our model can generalise well over unseen examples.\n",
        "The validation dataset is different from the testing dataset.\n",
        "While a testing dataset is not touched until we evaluate the performance of the model, the validation dataset is used to fine tune hyperparameters of the model, and will be used during the training process.\n",
        "\n",
        "In the following code, we split the full training data into training, and validation datsets:"
      ],
      "metadata": {
        "id": "msOHkjG12zQD"
      }
    },
    {
      "cell_type": "code",
      "execution_count": 17,
      "metadata": {
        "colab": {
          "base_uri": "https://localhost:8080/"
        },
        "id": "g9rfcWk-nVkl",
        "outputId": "944e0ae8-3c35-47cb-b554-807db437c2e6"
      },
      "outputs": [
        {
          "output_type": "stream",
          "name": "stdout",
          "text": [
            "Full training dataset (images):  (60000, 28, 28)\n",
            "Full training dataset (labels):  (60000,)\n",
            "Training dataset (images):  (55000, 28, 28)\n",
            "Training dataset (labels):  (55000,)\n",
            "Validation dataset (images):  (5000, 28, 28)\n",
            "Validation dataset (labels):  (5000,)\n",
            "Testing dataset (images):  (10000, 28, 28)\n",
            "Testing dataset (labels):  (10000, 28, 28)\n"
          ]
        }
      ],
      "source": [
        "#import libraries\n",
        "import tensorflow as tf\n",
        "from tensorflow import keras\n",
        "\n",
        "#load dataset from Keras\n",
        "(x_train_full,y_train_full),(x_test,y_test)=keras.datasets.fashion_mnist.load_data()\n",
        "\n",
        "#split full training dataset into validation and training subsets\n",
        "x_valid=x_train_full[:5000]/255.0\n",
        "x_train=x_train_full[5000:]/255.0\n",
        "y_valid=y_train_full[:5000]\n",
        "y_train=y_train_full[5000:]\n",
        "\n",
        "print('Full training dataset (images): ',x_train_full.shape)\n",
        "print('Full training dataset (labels): ',y_train_full.shape)\n",
        "print('Training dataset (images): ',x_train.shape)\n",
        "print('Training dataset (labels): ',y_train.shape)\n",
        "print('Validation dataset (images): ',x_valid.shape)\n",
        "print('Validation dataset (labels): ',y_valid.shape)\n",
        "print('Testing dataset (images): ',x_test.shape)\n",
        "print('Testing dataset (labels): ',x_test.shape)\n"
      ]
    },
    {
      "cell_type": "markdown",
      "source": [
        "##Questions:\n",
        "1. Why do we divide the value of the image arrays by 255.0?"
      ],
      "metadata": {
        "id": "p6lYNFVm6Whw"
      }
    },
    {
      "cell_type": "markdown",
      "source": [
        "##Class Labels\n",
        "\n",
        "The class labels are in the range 0-9, with each value corresponding to a type of garment.\n",
        "The following code visualises some images from the training dataset and display them with their labels:"
      ],
      "metadata": {
        "id": "jbOF4bv8qgmI"
      }
    },
    {
      "cell_type": "code",
      "source": [
        "#import libraries\n",
        "import tensorflow as tf\n",
        "from tensorflow import keras\n",
        "from matplotlib import pyplot   #added matplotlib\n",
        "import random                   #added random\n",
        "\n",
        "#load dataset from Keras\n",
        "(x_train_full,y_train_full),(x_test,y_test)=keras.datasets.fashion_mnist.load_data()\n",
        "\n",
        "#split full training dataset into validation and training subsets\n",
        "x_valid=x_train_full[:5000]/255.0\n",
        "x_train=x_train_full[5000:]/255.0\n",
        "y_valid=y_train_full[:5000]\n",
        "y_train=y_train_full[5000:]\n",
        "\n",
        "#class names in an array\n",
        "class_names=['T-shirt/top','Trouser','Pullover','Dress','Coat','Sandal','Shirt','Sneaker','Bag','Ankle boot']\n",
        "\n",
        "#get size of training dataset\n",
        "(instance_count,width,height)=x_train.shape\n",
        "\n",
        "#randomly show 9 images from training dataset\n",
        "for i in range(9):\n",
        "  #get a random index within the training dataset\n",
        "  index=random.randint(0,instance_count-1)\n",
        "\n",
        "  #get image from training dataset\n",
        "  image=x_train[index]\n",
        "  pyplot.subplot(3,3,i+1)\n",
        "  pyplot.imshow(image,cmap='gray')\n",
        "  \n",
        "  #get image label from training dataset\n",
        "  pyplot.title(class_names[y_train[index]])"
      ],
      "metadata": {
        "colab": {
          "base_uri": "https://localhost:8080/",
          "height": 281
        },
        "id": "ffazD2u5otEb",
        "outputId": "f6b71bcd-7944-42f0-b8dd-c16cfdcb4a04"
      },
      "execution_count": 19,
      "outputs": [
        {
          "output_type": "display_data",
          "data": {
            "text/plain": [
              "<Figure size 432x288 with 9 Axes>"
            ],
            "image/png": "[encoded data removed]"
          },
          "metadata": {
            "needs_background": "light"
          }
        }
      ]
    },
    {
      "cell_type": "markdown",
      "source": [
        "##Building the Neural Network\n",
        "\n",
        "The following code builds a neural network of 4 layers.\n",
        "1. We use a [Sequential model](https://keras.io/guides/sequential_model/).\n",
        "1. In the input layer, we will feed a grayscale image of size $28 \\times 28$. We use a [Flatten layer](https://keras.io/api/layers/reshaping_layers/flatten/).\n",
        "1. The 2 hidden layers are [Dense layers](https://keras.io/api/layers/core_layers/dense/).\n",
        "1. The output layer has 10 neurons as there are 10 classes.\n",
        "1. In the output layer, we use the [Softmax activation function](https://keras.io/api/layers/activations/#softmax-function). (Also see [this article](https://towardsdatascience.com/softmax-activation-function-how-it-actually-works-d292d335bd78) on the explanation of Softmax.)"
      ],
      "metadata": {
        "id": "rmO3L5yXqsNQ"
      }
    },
    {
      "cell_type": "code",
      "source": [
        "#import libraries\n",
        "import tensorflow as tf\n",
        "from tensorflow import keras\n",
        "\n",
        "#create a neural network using Keras\n",
        "model=keras.models.Sequential()\n",
        "\n",
        "#build the first input layer\n",
        "model.add(keras.layers.Flatten(input_shape=(28,28)))\n",
        "\n",
        "#add the next hidden, dense layer with 300 neurons, using ReLU activation function\n",
        "model.add(keras.layers.Dense(300,activation='relu'))\n",
        "\n",
        "#add the next hidden layer with 100 neurons, using ReLU\n",
        "model.add(keras.layers.Dense(100,activation='relu'))\n",
        "\n",
        "#add the output layer with 10 neurons, corresponding to the 10 classes\n",
        "model.add(keras.layers.Dense(10,activation='softmax'))\n",
        "\n",
        "#print a summary of the model\n",
        "model.summary()"
      ],
      "metadata": {
        "colab": {
          "base_uri": "https://localhost:8080/"
        },
        "id": "o_S58ieqrCge",
        "outputId": "f410b786-3e66-478b-8710-25b2500cb2b3"
      },
      "execution_count": 20,
      "outputs": [
        {
          "output_type": "stream",
          "name": "stdout",
          "text": [
            "Model: \"sequential_1\"\n",
            "_________________________________________________________________\n",
            " Layer (type)                Output Shape              Param #   \n",
            "=================================================================\n",
            " flatten_1 (Flatten)         (None, 784)               0         \n",
            "                                                                 \n",
            " dense_3 (Dense)             (None, 300)               235500    \n",
            "                                                                 \n",
            " dense_4 (Dense)             (None, 100)               30100     \n",
            "                                                                 \n",
            " dense_5 (Dense)             (None, 10)                1010      \n",
            "                                                                 \n",
            "=================================================================\n",
            "Total params: 266,610\n",
            "Trainable params: 266,610\n",
            "Non-trainable params: 0\n",
            "_________________________________________________________________\n"
          ]
        }
      ]
    },
    {
      "cell_type": "markdown",
      "source": [
        "##Questions\n",
        "Look at the shape and number of parameters in each layer.\n",
        "Every parameter in the model corresponds to a weight.\n",
        "1. How many neurons do we have in the input layer?\n",
        "1. How many weights (i.e. parameters) do we have in the input layer?\n",
        "1. In the 2nd layer (i.e. 1st hidden layer), how many neurons do we have?\n",
        "1. How many weights are there in the 2nd layer (i.e. 1st hidden layer)? How is this number computed/decided?\n"
      ],
      "metadata": {
        "id": "dumXoUT0q0SI"
      }
    },
    {
      "cell_type": "markdown",
      "source": [
        "##The Weights\n",
        "Our network is not trained at the moment.\n",
        "All weights are randomly assigned a value.\n",
        "The following code print out the values of the weights and biases.\n",
        "(Reference of `layers.get_weights()` is [here](https://keras.io/api/layers/base_layer/#getweights-method).)"
      ],
      "metadata": {
        "id": "m5onzFTfz2Hi"
      }
    },
    {
      "cell_type": "code",
      "source": [
        "#import libraries\n",
        "import tensorflow as tf\n",
        "from tensorflow import keras\n",
        "\n",
        "#create a neural network using Keras\n",
        "model=keras.models.Sequential()\n",
        "\n",
        "#build the first input layer\n",
        "model.add(keras.layers.Flatten(input_shape=(28,28)))\n",
        "\n",
        "#add the next hidden, dense layer with 300 neurons, using ReLU activation function\n",
        "model.add(keras.layers.Dense(300,activation='relu'))\n",
        "\n",
        "#add the next hidden layer with 100 neurons, using ReLU\n",
        "model.add(keras.layers.Dense(100,activation='relu'))\n",
        "\n",
        "#add the output layer with 10 neurons, corresponding to the 10 classes\n",
        "model.add(keras.layers.Dense(10,activation='softmax'))\n",
        "\n",
        "#get weight & baises in the 2nd layer (i.e. 1st hidden layer)\n",
        "(weights,biases)=model.layers[1].get_weights()\n",
        "\n",
        "print('Weights:')\n",
        "print(weights)\n",
        "print('Biases:')\n",
        "print(biases)"
      ],
      "metadata": {
        "colab": {
          "base_uri": "https://localhost:8080/"
        },
        "id": "D8yaZJDQrgoi",
        "outputId": "322df9d3-7ecc-4620-eeed-e717b74b633e"
      },
      "execution_count": 23,
      "outputs": [
        {
          "output_type": "stream",
          "name": "stdout",
          "text": [
            "Weights:\n",
            "[[-0.02302774 -0.00774644  0.0353773  ...  0.00426906 -0.05679414\n",
            "  -0.01457564]\n",
            " [-0.03523969  0.07311121  0.04963337 ...  0.0365238   0.03877839\n",
            "  -0.02440526]\n",
            " [-0.05158727  0.05440912  0.06149906 ...  0.05562955 -0.02985167\n",
            "  -0.0355898 ]\n",
            " ...\n",
            " [ 0.02327505  0.01454176 -0.00010476 ...  0.0100205  -0.01863548\n",
            "   0.01853751]\n",
            " [ 0.05045662 -0.06572909  0.02653269 ... -0.03153182 -0.04325354\n",
            "  -0.05669424]\n",
            " [-0.02653844 -0.02528175  0.06837843 ...  0.04349691  0.00732923\n",
            "   0.06979166]]\n",
            "Biases:\n",
            "[0. 0. 0. 0. 0. 0. 0. 0. 0. 0. 0. 0. 0. 0. 0. 0. 0. 0. 0. 0. 0. 0. 0. 0.\n",
            " 0. 0. 0. 0. 0. 0. 0. 0. 0. 0. 0. 0. 0. 0. 0. 0. 0. 0. 0. 0. 0. 0. 0. 0.\n",
            " 0. 0. 0. 0. 0. 0. 0. 0. 0. 0. 0. 0. 0. 0. 0. 0. 0. 0. 0. 0. 0. 0. 0. 0.\n",
            " 0. 0. 0. 0. 0. 0. 0. 0. 0. 0. 0. 0. 0. 0. 0. 0. 0. 0. 0. 0. 0. 0. 0. 0.\n",
            " 0. 0. 0. 0. 0. 0. 0. 0. 0. 0. 0. 0. 0. 0. 0. 0. 0. 0. 0. 0. 0. 0. 0. 0.\n",
            " 0. 0. 0. 0. 0. 0. 0. 0. 0. 0. 0. 0. 0. 0. 0. 0. 0. 0. 0. 0. 0. 0. 0. 0.\n",
            " 0. 0. 0. 0. 0. 0. 0. 0. 0. 0. 0. 0. 0. 0. 0. 0. 0. 0. 0. 0. 0. 0. 0. 0.\n",
            " 0. 0. 0. 0. 0. 0. 0. 0. 0. 0. 0. 0. 0. 0. 0. 0. 0. 0. 0. 0. 0. 0. 0. 0.\n",
            " 0. 0. 0. 0. 0. 0. 0. 0. 0. 0. 0. 0. 0. 0. 0. 0. 0. 0. 0. 0. 0. 0. 0. 0.\n",
            " 0. 0. 0. 0. 0. 0. 0. 0. 0. 0. 0. 0. 0. 0. 0. 0. 0. 0. 0. 0. 0. 0. 0. 0.\n",
            " 0. 0. 0. 0. 0. 0. 0. 0. 0. 0. 0. 0. 0. 0. 0. 0. 0. 0. 0. 0. 0. 0. 0. 0.\n",
            " 0. 0. 0. 0. 0. 0. 0. 0. 0. 0. 0. 0. 0. 0. 0. 0. 0. 0. 0. 0. 0. 0. 0. 0.\n",
            " 0. 0. 0. 0. 0. 0. 0. 0. 0. 0. 0. 0.]\n"
          ]
        }
      ]
    },
    {
      "cell_type": "markdown",
      "source": [
        "##Compiling and Training the Model\n",
        "\n",
        "Once the model is built, we need to compile it before training. Compilation essentially configures the model in defining its loss function, optimizer, and metrics used to determine its accuracy.\n",
        "\n",
        "List of methods on `model` can be found [here](https://keras.io/api/models/model_training_apis/), including [`compile(...)`](https://keras.io/api/models/model_training_apis/#compile-method), and [`fit(...)`](https://keras.io/api/models/model_training_apis/#fit-method).\n",
        "\n",
        "Finally, we training the model by giving it the training dataset and run it through a number of epoches."
      ],
      "metadata": {
        "id": "Gvm18-7hq80F"
      }
    },
    {
      "cell_type": "code",
      "source": [
        "#import libraries\n",
        "import tensorflow as tf\n",
        "from tensorflow import keras\n",
        "from matplotlib import pyplot   #added matplotlib\n",
        "import random                   #added random\n",
        "\n",
        "#load dataset from Keras\n",
        "fashion_mnist=keras.datasets.fashion_mnist\n",
        "(x_train_full,y_train_full),(x_test,y_test)=fashion_mnist.load_data()\n",
        "\n",
        "#split full training dataset into validation and training subsets\n",
        "x_valid=x_train_full[:5000]/255.0\n",
        "x_train=x_train_full[5000:]/255.0\n",
        "y_valid=y_train_full[:5000]\n",
        "y_train=y_train_full[5000:]\n",
        "\n",
        "#create a neural network using Keras\n",
        "model=keras.models.Sequential()\n",
        "\n",
        "#build the first input layer\n",
        "model.add(keras.layers.Flatten(input_shape=(28,28)))\n",
        "\n",
        "#add the next hidden, dense layer with 300 neurons, using ReLU activation function\n",
        "model.add(keras.layers.Dense(300,activation='relu'))\n",
        "\n",
        "#add the next hidden layer with 100 neurons, using ReLU\n",
        "model.add(keras.layers.Dense(100,activation='relu'))\n",
        "\n",
        "#add the output layer with 10 neurons, corresponding to the 10 classes\n",
        "model.add(keras.layers.Dense(10,activation='softmax'))\n",
        "\n",
        "#compile the model\n",
        "model.compile(loss='sparse_categorical_crossentropy',\n",
        "              optimizer='sgd',\n",
        "              metrics='accuracy')\n",
        "\n",
        "#train model\n",
        "history=model.fit(x_train,y_train,epochs=30,\n",
        "                  validation_data=(x_valid,y_valid))"
      ],
      "metadata": {
        "colab": {
          "base_uri": "https://localhost:8080/"
        },
        "id": "TK7qov0vr5zP",
        "outputId": "f7c23e4d-41db-4b20-a341-f2e124512c79"
      },
      "execution_count": 2,
      "outputs": [
        {
          "output_type": "stream",
          "name": "stdout",
          "text": [
            "Downloading data from https://storage.googleapis.com/tensorflow/tf-keras-datasets/train-labels-idx1-ubyte.gz\n",
            "29515/29515 [==============================] - 0s 0us/step\n",
            "Downloading data from https://storage.googleapis.com/tensorflow/tf-keras-datasets/train-images-idx3-ubyte.gz\n",
            "26421880/26421880 [==============================] - 0s 0us/step\n",
            "Downloading data from https://storage.googleapis.com/tensorflow/tf-keras-datasets/t10k-labels-idx1-ubyte.gz\n",
            "5148/5148 [==============================] - 0s 0us/step\n",
            "Downloading data from https://storage.googleapis.com/tensorflow/tf-keras-datasets/t10k-images-idx3-ubyte.gz\n",
            "4422102/4422102 [==============================] - 0s 0us/step\n",
            "Epoch 1/30\n",
            "1719/1719 [==============================] - 10s 3ms/step - loss: 0.7299 - accuracy: 0.7601 - val_loss: 0.5046 - val_accuracy: 0.8342\n",
            "Epoch 2/30\n",
            "1719/1719 [==============================] - 6s 3ms/step - loss: 0.4923 - accuracy: 0.8283 - val_loss: 0.4651 - val_accuracy: 0.8434\n",
            "Epoch 3/30\n",
            "1719/1719 [==============================] - 5s 3ms/step - loss: 0.4480 - accuracy: 0.8436 - val_loss: 0.4237 - val_accuracy: 0.8510\n",
            "Epoch 4/30\n",
            "1719/1719 [==============================] - 6s 3ms/step - loss: 0.4195 - accuracy: 0.8539 - val_loss: 0.4035 - val_accuracy: 0.8608\n",
            "Epoch 5/30\n",
            "1719/1719 [==============================] - 5s 3ms/step - loss: 0.3994 - accuracy: 0.8612 - val_loss: 0.3868 - val_accuracy: 0.8630\n",
            "Epoch 6/30\n",
            "1719/1719 [==============================] - 7s 4ms/step - loss: 0.3829 - accuracy: 0.8660 - val_loss: 0.3753 - val_accuracy: 0.8702\n",
            "Epoch 7/30\n",
            "1719/1719 [==============================] - 5s 3ms/step - loss: 0.3670 - accuracy: 0.8705 - val_loss: 0.3745 - val_accuracy: 0.8666\n",
            "Epoch 8/30\n",
            "1719/1719 [==============================] - 5s 3ms/step - loss: 0.3543 - accuracy: 0.8745 - val_loss: 0.3586 - val_accuracy: 0.8742\n",
            "Epoch 9/30\n",
            "1719/1719 [==============================] - 5s 3ms/step - loss: 0.3458 - accuracy: 0.8774 - val_loss: 0.3533 - val_accuracy: 0.8760\n",
            "Epoch 10/30\n",
            "1719/1719 [==============================] - 5s 3ms/step - loss: 0.3341 - accuracy: 0.8802 - val_loss: 0.3627 - val_accuracy: 0.8712\n",
            "Epoch 11/30\n",
            "1719/1719 [==============================] - 6s 3ms/step - loss: 0.3259 - accuracy: 0.8839 - val_loss: 0.3437 - val_accuracy: 0.8772\n",
            "Epoch 12/30\n",
            "1719/1719 [==============================] - 5s 3ms/step - loss: 0.3185 - accuracy: 0.8866 - val_loss: 0.3512 - val_accuracy: 0.8744\n",
            "Epoch 13/30\n",
            "1719/1719 [==============================] - 6s 3ms/step - loss: 0.3105 - accuracy: 0.8891 - val_loss: 0.3666 - val_accuracy: 0.8718\n",
            "Epoch 14/30\n",
            "1719/1719 [==============================] - 5s 3ms/step - loss: 0.3033 - accuracy: 0.8910 - val_loss: 0.3266 - val_accuracy: 0.8824\n",
            "Epoch 15/30\n",
            "1719/1719 [==============================] - 7s 4ms/step - loss: 0.2986 - accuracy: 0.8930 - val_loss: 0.3243 - val_accuracy: 0.8854\n",
            "Epoch 16/30\n",
            "1719/1719 [==============================] - 9s 5ms/step - loss: 0.2916 - accuracy: 0.8947 - val_loss: 0.3195 - val_accuracy: 0.8848\n",
            "Epoch 17/30\n",
            "1719/1719 [==============================] - 10s 6ms/step - loss: 0.2864 - accuracy: 0.8962 - val_loss: 0.3181 - val_accuracy: 0.8856\n",
            "Epoch 18/30\n",
            "1719/1719 [==============================] - 6s 4ms/step - loss: 0.2796 - accuracy: 0.8992 - val_loss: 0.3107 - val_accuracy: 0.8856\n",
            "Epoch 19/30\n",
            "1719/1719 [==============================] - 5s 3ms/step - loss: 0.2754 - accuracy: 0.9009 - val_loss: 0.3209 - val_accuracy: 0.8828\n",
            "Epoch 20/30\n",
            "1719/1719 [==============================] - 5s 3ms/step - loss: 0.2705 - accuracy: 0.9031 - val_loss: 0.3163 - val_accuracy: 0.8864\n",
            "Epoch 21/30\n",
            "1719/1719 [==============================] - 5s 3ms/step - loss: 0.2636 - accuracy: 0.9046 - val_loss: 0.3024 - val_accuracy: 0.8914\n",
            "Epoch 22/30\n",
            "1719/1719 [==============================] - 5s 3ms/step - loss: 0.2610 - accuracy: 0.9057 - val_loss: 0.3134 - val_accuracy: 0.8898\n",
            "Epoch 23/30\n",
            "1719/1719 [==============================] - 5s 3ms/step - loss: 0.2561 - accuracy: 0.9080 - val_loss: 0.3088 - val_accuracy: 0.8890\n",
            "Epoch 24/30\n",
            "1719/1719 [==============================] - 5s 3ms/step - loss: 0.2526 - accuracy: 0.9086 - val_loss: 0.3131 - val_accuracy: 0.8878\n",
            "Epoch 25/30\n",
            "1719/1719 [==============================] - 6s 3ms/step - loss: 0.2481 - accuracy: 0.9107 - val_loss: 0.3046 - val_accuracy: 0.8926\n",
            "Epoch 26/30\n",
            "1719/1719 [==============================] - 5s 3ms/step - loss: 0.2432 - accuracy: 0.9112 - val_loss: 0.3009 - val_accuracy: 0.8918\n",
            "Epoch 27/30\n",
            "1719/1719 [==============================] - 5s 3ms/step - loss: 0.2391 - accuracy: 0.9141 - val_loss: 0.3072 - val_accuracy: 0.8876\n",
            "Epoch 28/30\n",
            "1719/1719 [==============================] - 5s 3ms/step - loss: 0.2353 - accuracy: 0.9154 - val_loss: 0.3119 - val_accuracy: 0.8908\n",
            "Epoch 29/30\n",
            "1719/1719 [==============================] - 5s 3ms/step - loss: 0.2311 - accuracy: 0.9164 - val_loss: 0.2982 - val_accuracy: 0.8936\n",
            "Epoch 30/30\n",
            "1719/1719 [==============================] - 5s 3ms/step - loss: 0.2279 - accuracy: 0.9177 - val_loss: 0.2900 - val_accuracy: 0.8954\n"
          ]
        }
      ]
    },
    {
      "cell_type": "markdown",
      "source": [
        "##Visualising the Training\n",
        "\n",
        "The [`fit(...)` method](https://keras.io/api/models/model_training_apis/#fit-method) returns a `History` object which contains information collected from all epochs.\n",
        "Plotting these data allow us to see how the model performs during the training process. e.g. You should expect the loss to decrease, and accuracy to increase over epoch.\n",
        "If performance worsens with more training, it may indicate that the model is overfitting."
      ],
      "metadata": {
        "id": "jBihw7WIrIgk"
      }
    },
    {
      "cell_type": "code",
      "source": [
        "import pandas as pd\n",
        "import matplotlib.pyplot as pyplot\n",
        "\n",
        "#show keys in the history\n",
        "print(history.history.keys())\n",
        "\n",
        "#plot graphs\n",
        "pd.DataFrame(history.history).plot(figsize=(15,8))\n",
        "pyplot.grid(True)\n",
        "pyplot.gca().set_ylim(0,1)\n",
        "pyplot.show()"
      ],
      "metadata": {
        "colab": {
          "base_uri": "https://localhost:8080/",
          "height": 505
        },
        "id": "NJZq15EFxS25",
        "outputId": "ca41c85c-19ac-47d2-8b8e-29faa4f67c46"
      },
      "execution_count": 34,
      "outputs": [
        {
          "output_type": "stream",
          "name": "stdout",
          "text": [
            "dict_keys(['loss', 'accuracy', 'val_loss', 'val_accuracy'])\n"
          ]
        },
        {
          "output_type": "display_data",
          "data": {
            "text/plain": [
              "<Figure size 1080x576 with 1 Axes>"
            ],
            "image/png": "[encoded data removed]"
          },
          "metadata": {
            "needs_background": "light"
          }
        }
      ]
    },
    {
      "cell_type": "markdown",
      "source": [
        "##Testing the Model\n",
        "\n",
        "To evaluate the performance of our model, we use the testing dataset.\n",
        "\n",
        "1. Reference of `evaluate()` method is [here](https://keras.io/api/models/model_training_apis/#evaluate-method)."
      ],
      "metadata": {
        "id": "hINWcFxqY9qQ"
      }
    },
    {
      "cell_type": "code",
      "source": [
        "#evaluate the model using the testing dataset\n",
        "(loss,accuracy)=model.evaluate(x_test,y_test)\n",
        "\n",
        "print('Loss: ',loss)\n",
        "print('Accuracy: ',round(accuracy,2)*100,'%')"
      ],
      "metadata": {
        "id": "o1UwUuYmyyjZ",
        "colab": {
          "base_uri": "https://localhost:8080/"
        },
        "outputId": "9e4d28ad-3c3b-4ca9-c768-1fc93812e4f6"
      },
      "execution_count": 5,
      "outputs": [
        {
          "output_type": "stream",
          "name": "stdout",
          "text": [
            "313/313 [==============================] - 1s 3ms/step - loss: 65.6602 - accuracy: 0.8428\n",
            "Loss:  65.66015625\n",
            "Accuracy:  84.0 %\n"
          ]
        }
      ]
    },
    {
      "cell_type": "markdown",
      "source": [
        "##Doing Prediction\n",
        "\n",
        "We can now use the trained model for prediction. We will:\n",
        "1. Take 1 image from the testing data.\n",
        "1. Ask the trained model to predict which class the image belongs to."
      ],
      "metadata": {
        "id": "LFmZ1ALBrOA2"
      }
    },
    {
      "cell_type": "code",
      "source": [
        "import numpy as np\n",
        "\n",
        "#class names in an array\n",
        "class_names=['T-shirt/top','Trouser','Pullover','Dress','Coat','Sandal','Shirt','Sneaker','Bag','Ankle boot']\n",
        "\n",
        "#get a random image from the testing dataset\n",
        "(instance_count,width,height)=x_test.shape    #get dataset size\n",
        "index=random.randint(0,instance_count-1)      #get an index witin dataset\n",
        "image=x_test[index]                           #get image\n",
        "pyplot.imshow(image,cmap='gray')              #show image\n",
        "\n",
        "#need to add 1 dimension to array to fit input shape\n",
        "oneImage=np.expand_dims(image,axis=0)\n",
        "print('Image shape: ',oneImage.shape)\n",
        "\n",
        "#predict image class\n",
        "[prediction]=model.predict(oneImage)\n",
        "print('Prediction output: ',prediction)\n",
        "\n",
        "classIndex=np.argmax(prediction,axis=-1)\n",
        "\n",
        "predictedClass=class_names[classIndex]\n",
        "print('Predicted class: ',predictedClass)"
      ],
      "metadata": {
        "colab": {
          "base_uri": "https://localhost:8080/",
          "height": 338
        },
        "id": "r-oowJ0HygXP",
        "outputId": "4ac3d6e7-3634-4d50-e191-45dc4858b46e"
      },
      "execution_count": 14,
      "outputs": [
        {
          "output_type": "stream",
          "name": "stdout",
          "text": [
            "Image shape:  (1, 28, 28)\n",
            "1/1 [==============================] - 0s 27ms/step\n",
            "Prediction output:  [0. 0. 0. 0. 0. 0. 0. 0. 0. 1.]\n",
            "Predicted class:  Ankle boot\n"
          ]
        },
        {
          "output_type": "display_data",
          "data": {
            "text/plain": [
              "<Figure size 432x288 with 1 Axes>"
            ],
            "image/png": "[encoded data removed]"
          },
          "metadata": {
            "needs_background": "light"
          }
        }
      ]
    },
    {
      "cell_type": "code",
      "source": [
        "images=x_test\n",
        "print(images.shape)\n",
        "model.predict(images)"
      ],
      "metadata": {
        "colab": {
          "base_uri": "https://localhost:8080/"
        },
        "id": "wUFr2pRaVAmB",
        "outputId": "92f0b1f5-fa88-4738-de0d-ff9ed0dd4db3"
      },
      "execution_count": null,
      "outputs": [
        {
          "output_type": "stream",
          "name": "stdout",
          "text": [
            "(10000, 28, 28)\n",
            "313/313 [==============================] - 0s 2ms/step\n"
          ]
        },
        {
          "output_type": "execute_result",
          "data": {
            "text/plain": [
              "array([[0., 0., 0., ..., 0., 0., 1.],\n",
              "       [0., 0., 1., ..., 0., 0., 0.],\n",
              "       [0., 1., 0., ..., 0., 0., 0.],\n",
              "       ...,\n",
              "       [0., 0., 0., ..., 0., 1., 0.],\n",
              "       [0., 1., 0., ..., 0., 0., 0.],\n",
              "       [0., 0., 0., ..., 0., 0., 0.]], dtype=float32)"
            ]
          },
          "metadata": {},
          "execution_count": 38
        }
      ]
    },
    {
      "cell_type": "markdown",
      "source": [
        "##Tasks\n",
        "You may want to try the followings to see if it can improve the overall performance of your neural network:\n",
        "1. Increase the number of hidden layers.\n",
        "1. Increase the number of neurons in different layers.\n",
        "1. Modify some parameters. e.g. use a different optimizer, learning rate, etc.\n"
      ],
      "metadata": {
        "id": "Q6FPsJFGUrhJ"
      }
    }
  ]
}