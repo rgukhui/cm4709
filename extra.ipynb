{
  "nbformat": 4,
  "nbformat_minor": 0,
  "metadata": {
    "colab": {
      "provenance": [],
      "include_colab_link": true
    },
    "kernelspec": {
      "name": "python3",
      "display_name": "Python 3"
    },
    "language_info": {
      "name": "python"
    },
    "accelerator": "GPU",
    "gpuClass": "standard"
  },
  "cells": [
    {
      "cell_type": "markdown",
      "metadata": {
        "id": "view-in-github",
        "colab_type": "text"
      },
      "source": [
        "<a href=\"https://colab.research.google.com/github/rgukhui/cm4709/blob/main/extra.ipynb\" target=\"_parent\"><img src=\"https://colab.research.google.com/assets/colab-badge.svg\" alt=\"Open In Colab\"/></a>"
      ]
    },
    {
      "cell_type": "markdown",
      "source": [
        "#CM4709 Computer Vision\n",
        "#On-campus Day Extra Lab\n",
        "\n",
        "##Aim\n",
        "1. To load images from a CSV file of engineering drawing symbols.\n",
        "1. Use CNN to classify these symbols."
      ],
      "metadata": {
        "id": "DMfTLJQxWaPH"
      }
    },
    {
      "cell_type": "markdown",
      "source": [
        "##Uploading File and Mounting GoogleDrive\n",
        "\n",
        "The symbol drawings are in a CSV file.\n",
        "Upload it to a folder in GoogleDrive.\n",
        "Then mount your GoogleDrive in the runtime."
      ],
      "metadata": {
        "id": "7sbapiZqWyJI"
      }
    },
    {
      "cell_type": "code",
      "source": [
        "from google.colab import drive\n",
        "drive.mount('/content/gdrive')"
      ],
      "metadata": {
        "colab": {
          "base_uri": "https://localhost:8080/"
        },
        "id": "S8vbodwaqO0G",
        "outputId": "2515f0d2-c2ad-4f01-b03b-fc84909096ee"
      },
      "execution_count": 52,
      "outputs": [
        {
          "output_type": "stream",
          "name": "stdout",
          "text": [
            "Drive already mounted at /content/gdrive; to attempt to forcibly remount, call drive.mount(\"/content/gdrive\", force_remount=True).\n"
          ]
        }
      ]
    },
    {
      "cell_type": "code",
      "execution_count": 53,
      "metadata": {
        "id": "jiIAX2eOmbqu"
      },
      "outputs": [],
      "source": [
        "import numpy as np\n",
        "import pandas as pd\n",
        "import matplotlib.pyplot as plt\n",
        "from collections import Counter\n",
        "from sklearn.metrics import confusion_matrix\n",
        "import itertools\n",
        "import seaborn as sns\n",
        "from random import randint\n",
        "\n",
        "# imports for array-handling and plotting\n",
        "import matplotlib\n",
        "import os\n",
        "import tensorflow as tf\n",
        "from tensorflow.python.keras.layers import Input, Dense\n"
      ]
    },
    {
      "cell_type": "markdown",
      "source": [
        "##Loading the CSV File\n",
        "\n",
        "We can read the CSV file as a dataframe using Pandas.\n",
        "The format of the CSV:\n",
        "1. Each row/line in the CSV file is a data instance, which contains a 100x100 bitmap and a class label.\n",
        "1. Each data instance has 10000 columns, followed by a label/class column. The 10000 columns represent the 100x100 image."
      ],
      "metadata": {
        "id": "DbK_Hc3dXdpu"
      }
    },
    {
      "cell_type": "code",
      "source": [
        "df =pd.read_csv('/content/gdrive/MyDrive/RGU/cm4709/on-campus day/extra lab/Symbols_pixel.csv')\n",
        "\n",
        "#show first 5 rows dataframe\n",
        "#\n",
        "print('===first 5 rows===')\n",
        "print(df.head())\n",
        "\n",
        "#show the columns\n",
        "#\n",
        "print('===columns===')\n",
        "print(df.columns)\n",
        "\n",
        "#show shape of dataframe\n",
        "#\n",
        "print('===shape===')\n",
        "print(df.shape)\n"
      ],
      "metadata": {
        "id": "nLGjppT_ICdt"
      },
      "execution_count": null,
      "outputs": []
    },
    {
      "cell_type": "markdown",
      "source": [
        "##Generating Header Names\n",
        "\n",
        "Optionally, we can put in the column names. We will name the first 1000 columns \"p_x\" and the last one \"label\"."
      ],
      "metadata": {
        "id": "2ZNAQMADXyED"
      }
    },
    {
      "cell_type": "code",
      "source": [
        "#get no. of columns\n",
        "#\n",
        "num_cols=df.shape[1]\n",
        "\n",
        "#generate header\n",
        "#\n",
        "rng=range(1,num_cols)\n",
        "new_cols = ['p_' + str(i) for i in rng]\n",
        "new_cols.append('label')\n",
        "print('===new column names===')\n",
        "print(new_cols)\n",
        "\n",
        "#set column labels of dataframe\n",
        "#ensure the length of the new columns list is equal to the length of df's columns\n",
        "df.columns = new_cols[:num_cols]\n",
        "\n",
        "#show first 5 rows\n",
        "print('===first 5 rows===')\n",
        "print(df.head())\n"
      ],
      "metadata": {
        "id": "FSuH1SpJMfK6"
      },
      "execution_count": null,
      "outputs": []
    },
    {
      "cell_type": "markdown",
      "source": [
        "##Split into X and Y\n",
        "\n",
        "We then divide the dataframe into X (input features) and Y (output label)."
      ],
      "metadata": {
        "id": "GnmEn3n-9Q5Q"
      }
    },
    {
      "cell_type": "code",
      "source": [
        "#no. of columns\n",
        "#\n",
        "n = df.shape[1]\n",
        "\n",
        "#get 'label' column\n",
        "#this will be y\n",
        "#\n",
        "labels=df['label']\n",
        "\n",
        "#get all columns except last one\n",
        "#this will be x\n",
        "#\n",
        "features=df.iloc[:,0:n-1]\n",
        "\n",
        "print('===features===')\n",
        "print(features)\n",
        "\n",
        "print('===labels===')\n",
        "print(labels)"
      ],
      "metadata": {
        "id": "Wz8MxdBLIG_N"
      },
      "execution_count": null,
      "outputs": []
    },
    {
      "cell_type": "code",
      "source": [
        "#show shape of x\n",
        "#\n",
        "print('x shape: ',features.values.shape)\n",
        "\n",
        "#show shape of y\n",
        "#\n",
        "print('y shape: ',labels.values.shape)"
      ],
      "metadata": {
        "id": "kDu_rmdWUmLI"
      },
      "execution_count": null,
      "outputs": []
    },
    {
      "cell_type": "markdown",
      "source": [
        "##Show Random Symbols\n",
        "\n",
        "Even with the bitmap in a 1-dimensional array, we can still use OpenCV to \"reshape\" the bitmape and display it."
      ],
      "metadata": {
        "id": "KRtnxsjGYXuK"
      }
    },
    {
      "cell_type": "code",
      "source": [
        "fig, ax = plt.subplots(8, 8, figsize=(8, 8))\n",
        "\n",
        "#get x as an array\n",
        "#\n",
        "fx = features.values\n",
        "print(ax.flat)\n",
        "\n",
        "#show a number of images\n",
        "#\n",
        "for i, axi in enumerate(ax.flat):\n",
        "  #get a random index\n",
        "  value = randint(0, df.shape[0])\n",
        "\n",
        "  #get features, shape it into 100x100 and show it\n",
        "  #\n",
        "  axi.imshow(fx[value].reshape(100,100), cmap='gray')\n",
        "  axi.set(xticks=[], yticks=[])\n",
        "plt.show()"
      ],
      "metadata": {
        "id": "d2K55bHbrflk"
      },
      "execution_count": null,
      "outputs": []
    },
    {
      "cell_type": "markdown",
      "source": [
        "##Show Class Distribution"
      ],
      "metadata": {
        "id": "5EwGzZv-YgG6"
      }
    },
    {
      "cell_type": "code",
      "source": [
        "import matplotlib.pyplot as plt\n",
        "import seaborn as sns\n",
        "\n",
        "sns.set_style(\"whitegrid\")\n",
        "plt.figure(figsize=(15,7))\n",
        "plt.hist(labels,bins=39)\n",
        "plt.title('Symbols Distribution')\n",
        "plt.xlabel('Symbol Class')\n",
        "plt.ylabel('Count')\n",
        "plt.xticks(rotation=90)\n",
        "plt.show()"
      ],
      "metadata": {
        "id": "tm6Fz4xiwyZ6"
      },
      "execution_count": null,
      "outputs": []
    },
    {
      "cell_type": "code",
      "source": [
        "#show frequency/count of labels\n",
        "#\n",
        "df['label'].value_counts()"
      ],
      "metadata": {
        "id": "70ent-AzxNLn"
      },
      "execution_count": null,
      "outputs": []
    },
    {
      "cell_type": "markdown",
      "source": [
        "##Remove Infrequent Symbols"
      ],
      "metadata": {
        "id": "6cHKP5-WYy5M"
      }
    },
    {
      "cell_type": "code",
      "source": [
        "#remove symbols with less than 7 instances\n",
        "#\n",
        "df = df[~df['label'].isin(['Ultrasonic Flow Meter', 'Barred Tee','Temporary Strainer',\n",
        "                     'Control Valve Angle Choke','Line Blindspacer',\n",
        "                     'Vessel','Valve Gate Through Conduit','Deluge','Control Valve'])]\n",
        "\n",
        "print('shape: ',df.values.shape)\n",
        "print(df['label'].value_counts())"
      ],
      "metadata": {
        "id": "_WYiXtv-xggK"
      },
      "execution_count": null,
      "outputs": []
    },
    {
      "cell_type": "code",
      "source": [
        "dataset = df.values\n",
        "# split into input (X) and output (y) variables\n",
        "x = dataset[:, :-1]\n",
        "y = dataset[:,-1]\n",
        "print('x shape: ',x.shape)\n",
        "print('y shape',y.shape)\n",
        "print('===Sample===')\n",
        "print(x[0])\n",
        "print(y[0])"
      ],
      "metadata": {
        "id": "5jM2YU6SxxNf"
      },
      "execution_count": null,
      "outputs": []
    },
    {
      "cell_type": "code",
      "source": [
        "print(f'There are {len(df.label.unique())} Unique Symbol in the dataset')"
      ],
      "metadata": {
        "id": "qyZHYfwVx_kO"
      },
      "execution_count": null,
      "outputs": []
    },
    {
      "cell_type": "markdown",
      "source": [
        "##Examine Datasets"
      ],
      "metadata": {
        "id": "3Fz3TqB3ZJOh"
      }
    },
    {
      "cell_type": "code",
      "source": [
        "from sklearn.model_selection import train_test_split\n",
        "# simple functions to check the shapes of all compoents of the dataset (train, test, labels)\n",
        "\n",
        "def data_summary(x_train, y_train, x_test, y_test):\n",
        "  print('Train images shape:', x_train.shape)\n",
        "  print('Train labels shape:', y_train.shape)\n",
        "  print('Test images shape:', x_test.shape)\n",
        "  print('Test labels shape:', y_test.shape)\n",
        "\n",
        "# split the data and check the shapes of results sets\n",
        "# train_test_split(...) returns numpy arrays\n",
        "\n",
        "x_train, x_test, y_train, y_test = train_test_split(x, y, test_size=0.20)\n",
        "data_summary(x_train,y_train,x_test,y_test)"
      ],
      "metadata": {
        "id": "aQg_ouQPyFgN"
      },
      "execution_count": null,
      "outputs": []
    },
    {
      "cell_type": "markdown",
      "source": [
        "##Reshape Data\n",
        "\n",
        "We need to reshape the 1D array into a 2D one for the CNN."
      ],
      "metadata": {
        "id": "d2NW-JyJZXHJ"
      }
    },
    {
      "cell_type": "code",
      "source": [
        "print('===BEFORE RESHAPE===')\n",
        "print('X_train ',x_train.shape)\n",
        "print('y_train ',y_train.shape)\n",
        "print('X_test ',x_test.shape)\n",
        "print('y_test ',y_test.shape)\n",
        "x_train = x_train.reshape(x_train.shape[0], 100,100,1)\n",
        "x_test = x_test.reshape(x_test.shape[0], 100,100,1)\n",
        "x_train = x_train.astype('float32')\n",
        "x_test = x_test.astype('float32')\n",
        "print('===AFTER RESHAPE===')\n",
        "print('x_train ',x_train.shape)\n",
        "print('y_train ',y_train.shape)\n",
        "print('x_test ',x_test.shape)\n",
        "print('y_test ',y_test.shape)\n",
        "\n",
        "print('==SAMPLES')\n",
        "print(x_train[0])\n",
        "print(y_train[0])"
      ],
      "metadata": {
        "id": "_DfVwAAQyYCk"
      },
      "execution_count": null,
      "outputs": []
    },
    {
      "cell_type": "markdown",
      "source": [
        "##Prepare Data for Model\n"
      ],
      "metadata": {
        "id": "q6hN8yUrZmJv"
      }
    },
    {
      "cell_type": "code",
      "source": [
        "# Encode target variables\n",
        "# prepare target\n",
        "from sklearn.preprocessing import LabelEncoder\n",
        "from sklearn.preprocessing import OneHotEncoder\n",
        "\n",
        "y_train_cat = y_train\n",
        "y_test_cat = y_test\n",
        "\n",
        "# prepare target\n",
        "def prepare_targets(y_train, y_test):\n",
        "    le = LabelEncoder()\n",
        "    le.fit(y_train)\n",
        "    y_train_enc = le.transform(y_train)\n",
        "    y_test_enc = le.transform(y_test)\n",
        "    return y_train_enc, y_test_enc\n",
        "\n",
        "y_train, y_test = prepare_targets(y_train,y_test)\n",
        "\n",
        "print('y_train shape: ',y_train.shape)\n",
        "print('y_test shape:',y_test.shape)\n",
        "print('===Sample===')\n",
        "print(y_train[0])\n"
      ],
      "metadata": {
        "id": "NB_sQd95yhY5"
      },
      "execution_count": null,
      "outputs": []
    },
    {
      "cell_type": "markdown",
      "source": [
        "##Encode Label Data"
      ],
      "metadata": {
        "id": "gIIzQHLzaCe9"
      }
    },
    {
      "cell_type": "code",
      "source": [
        "#from tensorflow.keras.utils import to_categorical\n",
        "#from keras.utils import np_utils\n",
        "\n",
        "from tensorflow.keras import utils\n",
        "\n",
        "y_train = utils.to_categorical(y_train)\n",
        "y_test = utils.to_categorical(y_test)\n",
        "num_classes = y_test.shape[1]\n",
        "print('y_train shape: ',y_train.shape)\n",
        "print('y_test shape: ',y_test.shape)\n",
        "print('===Sample===')\n",
        "print(y_train[0])"
      ],
      "metadata": {
        "id": "qjB-ZKfnysOj"
      },
      "execution_count": null,
      "outputs": []
    },
    {
      "cell_type": "markdown",
      "source": [
        "##Validation Dataset"
      ],
      "metadata": {
        "id": "NWs3jXMpZwRR"
      }
    },
    {
      "cell_type": "code",
      "source": [
        "#shuffle the training dataset (5 times!)\n",
        "for _ in range(5):\n",
        "    indexes = np.random.permutation(len(x_train))\n",
        "\n",
        "x_train = x_train[indexes]\n",
        "y_train = y_train[indexes]\n",
        "\n",
        "# Keep 10% of the training data for validation\n",
        "# cross-validation sets\n",
        "val_perc = 0.10\n",
        "val_count = int(val_perc * len(x_train))\n",
        "\n",
        "# Validation set (val_data)\n",
        "val_data = x_train[:val_count,:]\n",
        "val_labels_cat = y_train[:val_count,:]"
      ],
      "metadata": {
        "id": "bpUQt7OByxp3"
      },
      "execution_count": 68,
      "outputs": []
    },
    {
      "cell_type": "markdown",
      "source": [
        "##Build Model"
      ],
      "metadata": {
        "id": "8qIif_SPaH24"
      }
    },
    {
      "cell_type": "code",
      "source": [
        "def build_modelU():\n",
        "  model = tf.keras.Sequential()\n",
        "  # add Convolutional layers\n",
        "  model.add(tf.keras.layers.Conv2D(filters=32, kernel_size=(3,3), activation='relu', padding='same', input_shape=(100, 100, 1)))\n",
        "  model.add(tf.keras.layers.MaxPooling2D(pool_size=(2,2)))\n",
        "  model.add(tf.keras.layers.Conv2D(filters=64, kernel_size=(3,3), activation='relu', padding='same'))\n",
        "  model.add(tf.keras.layers.Conv2D(filters=64, kernel_size=(3,3), activation='relu', padding='same'))\n",
        "  model.add(tf.keras.layers.MaxPooling2D(pool_size=(2,2)))\n",
        "  model.add(tf.keras.layers.Conv2D(filters=128, kernel_size=(3,3), activation='relu', padding='same'))\n",
        "  model.add(tf.keras.layers.Conv2D(filters=128, kernel_size=(3,3), activation='relu', padding='same'))\n",
        "  model.add(tf.keras.layers.MaxPooling2D(pool_size=(2,2)))\n",
        "  model.add(tf.keras.layers.Flatten())\n",
        "  # Densely connected layers\n",
        "  #model.add(tf.keras.layers.Dense(128, activation='relu'))\n",
        "  #model.add(tf.keras.layers.Dropout(0.5))\n",
        "  model.add(tf.keras.layers.Dense(64, activation='relu'))\n",
        "  #model.add(tf.keras.layers.Dropout(0.1))\n",
        "  # output layer\n",
        "  model.add(tf.keras.layers.Dense(num_classes, activation='softmax'))\n",
        "  # compile with adam optimizer & categorical_crossentropy loss function\n",
        "  model.compile(optimizer='adam', loss='categorical_crossentropy',metrics=['accuracy'])\n",
        "  return model\n",
        "\n",
        "model = build_modelU()\n",
        "print(model.summary())"
      ],
      "metadata": {
        "id": "cv7riGbSy6bI"
      },
      "execution_count": null,
      "outputs": []
    },
    {
      "cell_type": "markdown",
      "source": [
        "##Train Model"
      ],
      "metadata": {
        "id": "fGPHPhfxaMcK"
      }
    },
    {
      "cell_type": "code",
      "source": [
        "nEpochs = 25\n",
        "results = model.fit(x_train, y_train,\n",
        "                    epochs=nEpochs, batch_size=64,\n",
        "                    validation_data=(val_data, val_labels_cat))"
      ],
      "metadata": {
        "id": "C_EfYuR67nfi"
      },
      "execution_count": null,
      "outputs": []
    },
    {
      "cell_type": "markdown",
      "source": [
        "##Plot Training History"
      ],
      "metadata": {
        "id": "Fz64RWKPaQtS"
      }
    },
    {
      "cell_type": "code",
      "source": [
        "history_dict = results.history\n",
        "print(history_dict.keys())"
      ],
      "metadata": {
        "id": "s0jkebAw73aX"
      },
      "execution_count": null,
      "outputs": []
    },
    {
      "cell_type": "markdown",
      "source": [
        "##Evaluate Model"
      ],
      "metadata": {
        "id": "OjLicvKRaTQK"
      }
    },
    {
      "cell_type": "code",
      "source": [
        "# accuracy, test\n",
        "test_loss, test_accuracy = model.evaluate(x_test, y_test, batch_size=64)\n",
        "print('Test loss: %.4f accuracy: %.4f' % (test_loss, test_accuracy))"
      ],
      "metadata": {
        "id": "bHFt3N7777lz"
      },
      "execution_count": null,
      "outputs": []
    },
    {
      "cell_type": "code",
      "source": [
        "predictions = model.predict(x_test)\n",
        "preds = np.argmax(predictions, axis=1)\n",
        "actuals = np.argmax(y_test,axis=1)\n",
        "print('Accuracy: ',sum(preds==actuals)/x_test.shape[0])"
      ],
      "metadata": {
        "id": "6OVQqEmd8F6D"
      },
      "execution_count": null,
      "outputs": []
    },
    {
      "cell_type": "code",
      "source": [
        "score = model.evaluate(x_test, y_test, verbose=0)\n",
        "print('Test accuracy:', score[1])\n",
        "predictions = model.predict(x_test)\n",
        "preds = np.argmax(predictions, axis=1)\n",
        "actuals = np.argmax(y_test,axis=1)\n",
        "#print(confusion_matrix(preds,actuals))\n",
        "# correctly identified symbols\n",
        "print('Incorrectly Identified Symbols: ',(np.argmax(predictions, axis=1) != np.argmax(y_test,axis=1)).sum())"
      ],
      "metadata": {
        "id": "CbL0_5aB8NSz"
      },
      "execution_count": null,
      "outputs": []
    },
    {
      "cell_type": "code",
      "source": [
        "score = model.evaluate(x_train, y_train, verbose=0)\n",
        "print('Train loss:', score[0])\n",
        "print('Train accuracy:', score[1])\n",
        "predictions = model.predict(x_train)\n",
        "preds = np.argmax(predictions, axis=1)\n",
        "actuals = np.argmax(y_train,axis=1)\n",
        "#print(confusion_matrix(preds,actuals))\n",
        "# correctly identified symbols\n",
        "print('Incorrectly Identified Symbols: ',(np.argmax(predictions, axis=1) != np.argmax(y_train,axis=1)).sum())"
      ],
      "metadata": {
        "id": "6_oDNDC_8WNJ"
      },
      "execution_count": null,
      "outputs": []
    },
    {
      "cell_type": "code",
      "source": [
        "# Plot the loss and accuracy curves for training and validation\n",
        "sns.set_style('whitegrid')\n",
        "fig, ax = plt.subplots(1,2, figsize=(14, 7))\n",
        "ax[0].plot(results.history['loss'], color='b', label=\"Training loss\")\n",
        "ax[0].plot(results.history['val_loss'], color='r', label=\"validation loss\",axes=ax[0])\n",
        "legend = ax[0].legend(loc='best', shadow=True)\n",
        "ax[1].plot(results.history['accuracy'], color='b', label=\"Training accuracy\")\n",
        "ax[1].plot(results.history['val_accuracy'], color='r',label=\"Validation accuracy\")\n",
        "legend = ax[1].legend(loc='best', shadow=True)"
      ],
      "metadata": {
        "id": "8K-PuCws8jiP"
      },
      "execution_count": null,
      "outputs": []
    },
    {
      "cell_type": "markdown",
      "source": [
        "##Show Some Predictions"
      ],
      "metadata": {
        "id": "lDm6I7wWai37"
      }
    },
    {
      "cell_type": "code",
      "source": [
        "y_pred = model.predict(x_test)\n",
        "x_test__ = x_test.reshape(x_test.shape[0], 100, 100)\n",
        "fig, axis = plt.subplots(4, 4, figsize=(8, 12))\n",
        "for i, ax in enumerate(axis.flat):\n",
        "  ax.imshow(x_test__[i], cmap='binary')\n",
        "  ax.set(title = f\"Actual Symbol {y_test[i].argmax()}\\nPredicted is {y_pred[i].argmax()}\");"
      ],
      "metadata": {
        "id": "4QJSPA3F8nAJ"
      },
      "execution_count": null,
      "outputs": []
    }
  ]
}